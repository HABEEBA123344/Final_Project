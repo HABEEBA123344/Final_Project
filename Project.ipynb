{
  "cells": [
    {
      "cell_type": "markdown",
      "metadata": {
        "id": "view-in-github",
        "colab_type": "text"
      },
      "source": [
        "<a href=\"https://colab.research.google.com/github/HABEEBA123344/Final_Project/blob/main/Project.ipynb\" target=\"_parent\"><img src=\"https://colab.research.google.com/assets/colab-badge.svg\" alt=\"Open In Colab\"/></a>"
      ]
    },
    {
      "cell_type": "code",
      "execution_count": 1,
      "metadata": {
        "id": "Z_Eqyy9Rs4D1"
      },
      "outputs": [],
      "source": [
        "from tensorflow.keras.layers import Conv2D, BatchNormalization, Activation, MaxPool2D, Conv2DTranspose, Concatenate, Input, UpSampling2D, AveragePooling2D, ZeroPadding2D\n",
        "from tensorflow.keras.models import Model\n",
        "from tensorflow.keras.applications import DenseNet121\n",
        "from tensorflow.keras.applications import InceptionResNetV2\n",
        "from tensorflow.keras.applications.xception import Xception\n",
        "\n",
        "import numpy as np\n",
        "import tensorflow as tf\n",
        "import cv2\n",
        "import pandas as pd\n",
        "from glob import glob\n",
        "from tqdm import tqdm\n",
        "from tensorflow.keras import backend as K\n",
        "\n",
        "import os\n",
        "os.environ[\"TF_CPP_MIN_LOG_LEVEL\"] = \"2\"\n",
        "from sklearn.metrics import f1_score, jaccard_score, precision_score, recall_score\n",
        "from sklearn.utils import shuffle\n",
        "from tensorflow.keras.callbacks import ModelCheckpoint, CSVLogger, ReduceLROnPlateau, EarlyStopping, TensorBoard\n",
        "from tensorflow.keras.optimizers import Adam\n",
        "from sklearn.model_selection import train_test_split\n",
        "from tensorflow.keras.utils import CustomObjectScope\n",
        "from matplotlib import pyplot as plt\n",
        "from keras.models import load_model\n",
        "from keras.metrics import MeanIoU"
      ]
    },
    {
      "cell_type": "markdown",
      "metadata": {
        "id": "WoyTV92ktx9i"
      },
      "source": [
        "# **DenseNet121**"
      ]
    },
    {
      "cell_type": "code",
      "execution_count": null,
      "metadata": {
        "id": "RWyDOxqf1LSk"
      },
      "outputs": [],
      "source": [
        "def conv_block(inputs, num_filters):\n",
        "    x = Conv2D(num_filters, 3, padding=\"same\")(inputs)\n",
        "    x = BatchNormalization()(x)\n",
        "    x = Activation(\"relu\")(x)\n",
        "\n",
        "    x = Conv2D(num_filters, 3, padding=\"same\")(x)\n",
        "    x = BatchNormalization()(x)\n",
        "    x = Activation(\"relu\")(x)\n",
        "\n",
        "    return x\n",
        "\n",
        "def decoder_block(inputs, skip_features, num_filters):\n",
        "    x = Conv2DTranspose(num_filters, (2, 2), strides=2, padding=\"same\")(inputs)\n",
        "    x = Concatenate()([x, skip_features])\n",
        "    x = conv_block(x, num_filters)\n",
        "    return x\n",
        "\n",
        "def build_densenet121_unet(input_shape):\n",
        "    \"\"\" Input \"\"\"\n",
        "    inputs = Input(input_shape)\n",
        "\n",
        "    \"\"\" Pre-trained DenseNet121 Model \"\"\"\n",
        "    densenet = DenseNet121(include_top=False, weights=\"imagenet\", input_tensor=inputs)\n",
        "\n",
        "    \"\"\" Encoder \"\"\"\n",
        "    s1 = densenet.get_layer(\"input_1\").output\n",
        "    s2 = densenet.get_layer(\"conv1/relu\").output\n",
        "    s3 = densenet.get_layer(\"pool2_relu\").output\n",
        "    s4 = densenet.get_layer(\"pool3_relu\").output\n",
        "\n",
        "    \"\"\" Bridge \"\"\"\n",
        "    b1 = densenet.get_layer(\"pool4_relu\").output\n",
        "\n",
        "    \"\"\" Decoder \"\"\"\n",
        "    d1 = decoder_block(b1, s4, 512)\n",
        "    d2 = decoder_block(d1, s3, 256)\n",
        "    d3 = decoder_block(d2, s2, 128)\n",
        "    d4 = decoder_block(d3, s1, 64)\n",
        "\n",
        "    \"\"\" Outputs \"\"\"\n",
        "    outputs = Conv2D(1, 1, padding=\"same\", activation=\"sigmoid\")(d4)\n",
        "\n",
        "    model = Model(inputs, outputs)\n",
        "    return model"
      ]
    },
    {
      "cell_type": "markdown",
      "metadata": {
        "id": "rb31zuR6uAuA"
      },
      "source": [
        "# **InceptionResnetV2**"
      ]
    },
    {
      "cell_type": "code",
      "execution_count": null,
      "metadata": {
        "id": "8bmHbzlExo2G"
      },
      "outputs": [],
      "source": [
        "def conv_block(input, num_filters):\n",
        "    x = Conv2D(num_filters, 3, padding=\"same\")(input)\n",
        "    x = BatchNormalization()(x)\n",
        "    x = Activation(\"relu\")(x)\n",
        "\n",
        "    x = Conv2D(num_filters, 3, padding=\"same\")(x)\n",
        "    x = BatchNormalization()(x)\n",
        "    x = Activation(\"relu\")(x)\n",
        "\n",
        "    return x\n",
        "\n",
        "def decoder_block(input, skip_features, num_filters):\n",
        "    x = Conv2DTranspose(num_filters, (2, 2), strides=2, padding=\"same\")(input)\n",
        "    x = Concatenate()([x, skip_features])\n",
        "    x = conv_block(x, num_filters)\n",
        "    return x\n",
        "\n",
        "def build_inception_resnetv2_unet(input_shape):\n",
        "    \"\"\" Input \"\"\"\n",
        "    inputs = Input(input_shape)\n",
        "\n",
        "    \"\"\" Pre-trained InceptionResNetV2 Model \"\"\"\n",
        "    encoder = InceptionResNetV2(include_top=False, weights=\"imagenet\", input_tensor=inputs)\n",
        "\n",
        "    \"\"\" Encoder \"\"\"\n",
        "    s1 = encoder.get_layer(\"input_1\").output\n",
        "\n",
        "    s2 = encoder.get_layer(\"activation\").output\n",
        "    s2 = ZeroPadding2D(( (1, 0), (1, 0) ))(s2)\n",
        "\n",
        "    s3 = encoder.get_layer(\"activation_3\").output\n",
        "    s3 = ZeroPadding2D((1, 1))(s3)\n",
        "\n",
        "    s4 = encoder.get_layer(\"activation_74\").output\n",
        "    s4 = ZeroPadding2D(( (2, 1),(2, 1) ))(s4)\n",
        "\n",
        "    \"\"\" Bridge \"\"\"\n",
        "    b1 = encoder.get_layer(\"activation_161\").output\n",
        "    b1 = ZeroPadding2D((1, 1))(b1)\n",
        "\n",
        "    \"\"\" Decoder \"\"\"\n",
        "    d1 = decoder_block(b1, s4, 512)\n",
        "    d2 = decoder_block(d1, s3, 256)\n",
        "    d3 = decoder_block(d2, s2, 128)\n",
        "    d4 = decoder_block(d3, s1, 64)\n",
        "\n",
        "    \"\"\" Output \"\"\"\n",
        "    outputs = Conv2D(1, 1, padding=\"same\", activation=\"sigmoid\")(d4)\n",
        "\n",
        "    model = Model(inputs, outputs)\n",
        "    return model"
      ]
    },
    {
      "cell_type": "markdown",
      "metadata": {
        "id": "4w-LNsIEuE7n"
      },
      "source": [
        "# **DeepLabV3+**"
      ]
    },
    {
      "cell_type": "code",
      "execution_count": null,
      "metadata": {
        "id": "PrVmUzD6zbr5"
      },
      "outputs": [],
      "source": [
        "def ASPP(inputs):\n",
        "    shape = inputs.shape\n",
        "\n",
        "    y_pool = AveragePooling2D(pool_size=(shape[1], shape[2]), name='average_pooling')(inputs)\n",
        "    y_pool = Conv2D(filters=256, kernel_size=1, padding='same', use_bias=False)(y_pool)\n",
        "    y_pool = BatchNormalization(name=f'bn_1')(y_pool)\n",
        "    y_pool = Activation('relu', name=f'relu_1')(y_pool)\n",
        "    y_pool = UpSampling2D((shape[1], shape[2]), interpolation=\"bilinear\")(y_pool)\n",
        "\n",
        "    y_1 = Conv2D(filters=256, kernel_size=1, dilation_rate=1, padding='same', use_bias=False)(inputs)\n",
        "    y_1 = BatchNormalization()(y_1)\n",
        "    y_1 = Activation('relu')(y_1)\n",
        "\n",
        "    y_6 = Conv2D(filters=256, kernel_size=3, dilation_rate=6, padding='same', use_bias=False)(inputs)\n",
        "    y_6 = BatchNormalization()(y_6)\n",
        "    y_6 = Activation('relu')(y_6)\n",
        "\n",
        "    y_12 = Conv2D(filters=256, kernel_size=3, dilation_rate=12, padding='same', use_bias=False)(inputs)\n",
        "    y_12 = BatchNormalization()(y_12)\n",
        "    y_12 = Activation('relu')(y_12)\n",
        "\n",
        "    y_18 = Conv2D(filters=256, kernel_size=3, dilation_rate=18, padding='same', use_bias=False)(inputs)\n",
        "    y_18 = BatchNormalization()(y_18)\n",
        "    y_18 = Activation('relu')(y_18)\n",
        "\n",
        "    y = Concatenate()([y_pool, y_1, y_6, y_12, y_18])\n",
        "\n",
        "    y = Conv2D(filters=256, kernel_size=1, dilation_rate=1, padding='same', use_bias=False)(y)\n",
        "    y = BatchNormalization()(y)\n",
        "    y = Activation('relu')(y)\n",
        "    return y\n",
        "\n",
        "def DeepLabV3Plus(shape):\n",
        "    \"\"\" Inputs \"\"\"\n",
        "    inputs = Input(shape)\n",
        "\n",
        "    base_model = Xception(weights='imagenet', include_top=False, input_tensor=inputs)\n",
        "\n",
        "    \"\"\" Pre-trained Xception Output \"\"\"\n",
        "    image_features = base_model.get_layer('block14_sepconv2_act').output\n",
        "    x_a = ASPP(image_features)\n",
        "    x_a = UpSampling2D((4, 4), interpolation=\"bilinear\")(x_a)\n",
        "    print(x_a.shape)\n",
        "\n",
        "    \"\"\" Get low-level features \"\"\"\n",
        "    x_b = base_model.get_layer('block4_sepconv2_act').output\n",
        "    x_b = Conv2D(filters=48, kernel_size=1, padding='same', use_bias=False)(x_b)\n",
        "    x_b = BatchNormalization()(x_b)\n",
        "    x_b = Activation('relu')(x_b)\n",
        "    print(x_b.shape)\n",
        "\n",
        "    x = Concatenate()([x_a, x_b])\n",
        "\n",
        "    x = Conv2D(filters=256, kernel_size=3, padding='same', activation='relu',use_bias=False)(x)\n",
        "    x = BatchNormalization()(x)\n",
        "    x = Activation('relu')(x)\n",
        "\n",
        "    x = Conv2D(filters=256, kernel_size=3, padding='same', activation='relu', use_bias=False)(x)\n",
        "    x = BatchNormalization()(x)\n",
        "    x = Activation('relu')(x)\n",
        "\n",
        "    x = UpSampling2D((8, 8), interpolation=\"bilinear\")(x)\n",
        "\n",
        "    \"\"\" Outputs \"\"\"\n",
        "    x = Conv2D(1, (1, 1), name='output_layer')(x)\n",
        "    x = Activation('sigmoid')(x)\n",
        "\n",
        "    \"\"\" Model \"\"\"\n",
        "    model = Model(inputs=inputs, outputs=x)\n",
        "    return model"
      ]
    },
    {
      "cell_type": "markdown",
      "metadata": {
        "id": "STSyDE-Rzwt8"
      },
      "source": [
        "# **Metric**"
      ]
    },
    {
      "cell_type": "code",
      "execution_count": null,
      "metadata": {
        "id": "gIhT8k09z47Z"
      },
      "outputs": [],
      "source": [
        "def Combo_loss(y_true, y_pred, smooth=1):\n",
        "\n",
        " e = K.epsilon()\n",
        " if y_pred.shape[-1] <= 1:\n",
        "   ALPHA = 0.8    # < 0.5 penalises FP more, > 0.5 penalises FN more\n",
        "   CE_RATIO = 0.5 # weighted contribution of modified CE loss compared to Dice loss\n",
        "   y_pred = tf.keras.activations.sigmoid(y_pred)\n",
        " elif y_pred.shape[-1] >= 2:\n",
        "   ALPHA = 0.3    # < 0.5 penalises FP more, > 0.5 penalises FN more\n",
        "   CE_RATIO = 0.7 # weighted contribution of modified CE loss compared to Dice loss\n",
        "   y_pred = tf.keras.activations.softmax(y_pred, axis=-1)\n",
        "   y_true = K.squeeze(y_true, 3)\n",
        "   y_true = tf.cast(y_true, \"int32\")\n",
        "   y_true = tf.one_hot(y_true, num_class, axis=-1)\n",
        "\n",
        " # cast to float32 datatype\n",
        " y_true = K.cast(y_true, 'float32')\n",
        " y_pred = K.cast(y_pred, 'float32')\n",
        "\n",
        " targets = K.flatten(y_true)\n",
        " inputs = K.flatten(y_pred)\n",
        "\n",
        " intersection = K.sum(targets * inputs)\n",
        " dice = (2. * intersection + smooth) / (K.sum(targets) + K.sum(inputs) + smooth)\n",
        " inputs = K.clip(inputs, e, 1.0 - e)\n",
        " out = - (ALPHA * ((targets * K.log(inputs)) + ((1 - ALPHA) * (1.0 - targets) * K.log(1.0 - inputs))))\n",
        " weighted_ce = K.mean(out, axis=-1)\n",
        " combo = (CE_RATIO * weighted_ce) - ((1 - CE_RATIO) * dice)\n",
        "\n",
        " return combo"
      ]
    },
    {
      "cell_type": "markdown",
      "metadata": {
        "id": "SaC-SGJW0PiU"
      },
      "source": [
        "# **Load Dataset**"
      ]
    },
    {
      "cell_type": "code",
      "execution_count": 2,
      "metadata": {
        "colab": {
          "base_uri": "https://localhost:8080/"
        },
        "id": "WckLGIu20zzn",
        "outputId": "b26c2728-1d8f-4a3e-a153-943556aa92cc"
      },
      "outputs": [
        {
          "output_type": "stream",
          "name": "stdout",
          "text": [
            "Train1: 1800 - 1800\n",
            "Valid: 600 - 600\n",
            "Test : 600 - 600\n"
          ]
        }
      ],
      "source": [
        "\"\"\" Global parameters \"\"\"\n",
        "H = 224\n",
        "W = 224\n",
        "\n",
        "def create_dir(path):\n",
        "    if not os.path.exists(path):\n",
        "        os.makedirs(path)\n",
        "\n",
        "def load_dataset(path,split=0.2):\n",
        "    images = sorted(glob(os.path.join(path, \"images\", \"*.png\")))\n",
        "    masks = sorted(glob(os.path.join(path, \"masks\", \"*.png\")))\n",
        "    split_size = int(3000*split)\n",
        "\n",
        "    train_x, valid_x = train_test_split(images[:3000], test_size=split_size, random_state=42)\n",
        "    train_y, valid_y = train_test_split(masks[:3000], test_size=split_size, random_state=42)\n",
        "\n",
        "    train_x, test_x = train_test_split(train_x, test_size=split_size, random_state=42)\n",
        "    train_y, test_y = train_test_split(train_y, test_size=split_size, random_state=42)\n",
        "\n",
        "    return (train_x, train_y), (valid_x, valid_y), (test_x, test_y)\n",
        "\n",
        "def read_image(path):\n",
        "    path = path.decode()\n",
        "    x = cv2.imread(path, cv2.IMREAD_COLOR)\n",
        "    x = cv2.resize(x, (W, H))\n",
        "    x = x / 255.0\n",
        "    x = x.astype(np.float32)\n",
        "    return x\n",
        "\n",
        "def read_mask(path):\n",
        "    path = path.decode()\n",
        "    x = cv2.imread(path, cv2.IMREAD_GRAYSCALE)  ## (h, w)\n",
        "    x = cv2.resize(x, (W, H))   ## (h, w)\n",
        "    x = x / 255.0               ## (h, w)\n",
        "    x = x.astype(np.float32)    ## (h, w)\n",
        "    x = np.expand_dims(x, axis=-1)## (h, w, 1)\n",
        "    return x\n",
        "\n",
        "def tf_parse(x, y):\n",
        "    def _parse(x, y):\n",
        "        x = read_image(x)\n",
        "        y = read_mask(y)\n",
        "        return x, y\n",
        "\n",
        "    x, y = tf.numpy_function(_parse, [x, y], [tf.float32, tf.float32])\n",
        "    x.set_shape([H, W, 3])\n",
        "    y.set_shape([H, W, 1])\n",
        "    return x, y\n",
        "\n",
        "def tf_dataset(X, Y, batch=2):\n",
        "    dataset = tf.data.Dataset.from_tensor_slices((X, Y))\n",
        "    dataset = dataset.map(tf_parse)\n",
        "    dataset = dataset.batch(batch)\n",
        "    dataset = dataset.prefetch(10)\n",
        "    return dataset\n",
        "\n",
        "if __name__ == \"__main__\":\n",
        "    \"\"\" Seeding \"\"\"\n",
        "    np.random.seed(42)\n",
        "    tf.random.set_seed(42)\n",
        "\n",
        "    \"\"\" Directory for storing files \"\"\"\n",
        "    create_dir(\"files\")\n",
        "\n",
        "    \"\"\" Hyperparameters \"\"\"\n",
        "    batch_size = 8\n",
        "    lr = 1e-4\n",
        "    num_epochs = 100\n",
        "    model_path1 = os.path.join(\"/content/drive/MyDrive/models\", \"model1.h5\")\n",
        "    csv_path1 = os.path.join(\"/content/drive/MyDrive/models\", \"log1.csv\")\n",
        "    model_path2 = os.path.join(\"/content/drive/MyDrive/models\", \"model2.h5\")\n",
        "    csv_path2 = os.path.join(\"/content/drive/MyDrive/models\", \"log2.csv\")\n",
        "    model_path3 = os.path.join(\"/content/drive/MyDrive/models\", \"model3.h5\")\n",
        "    csv_path3 = os.path.join(\"/content/drive/MyDrive/models\", \"log3.csv\")\n",
        "\n",
        "    \"\"\" Dataset \"\"\"\n",
        "    dataset_path = \"/content/drive/MyDrive/cancerous_patches\"\n",
        "    (train_x, train_y), (valid_x, valid_y), (test_x, test_y) = load_dataset(dataset_path)\n",
        "    # (train_x1, train_y1) = (train_x[:500],train_y[:500])\n",
        "    # (train_x2, train_y2) = (train_x[500:1000],train_y[500:1000])\n",
        "    # (train_x3, train_y3) = (train_x[1000:1500],train_y[1000:1500])\n",
        "\n",
        "    print(f\"Train1: {len(train_x)} - {len(train_y)}\")\n",
        "    # print(f\"Train2: {len(train_x2)} - {len(train_y2)}\")\n",
        "    # print(f\"Train3: {len(train_x3)} - {len(train_y3)}\")\n",
        "\n",
        "    print(f\"Valid: {len(valid_x)} - {len(valid_y)}\")\n",
        "    print(f\"Test : {len(test_x)} - {len(test_y)}\")\n",
        "\n",
        "    train_dataset = tf_dataset(train_x, train_y, batch=batch_size)\n",
        "    # train_dataset2 = tf_dataset(train_x2, train_y2, batch=batch_size)\n",
        "    # train_dataset3 = tf_dataset(train_x3, train_y3, batch=batch_size)\n",
        "    valid_dataset = tf_dataset(valid_x, valid_y, batch=batch_size)"
      ]
    },
    {
      "cell_type": "code",
      "execution_count": 1,
      "metadata": {
        "colab": {
          "base_uri": "https://localhost:8080/"
        },
        "id": "QN9xLcKt4mBO",
        "outputId": "c4a87d2c-68d3-416f-ba96-49e8a3531a7b"
      },
      "outputs": [
        {
          "output_type": "stream",
          "name": "stdout",
          "text": [
            "Mounted at /content/drive\n"
          ]
        }
      ],
      "source": [
        "from google.colab import drive\n",
        "drive.mount('/content/drive')"
      ]
    },
    {
      "cell_type": "markdown",
      "metadata": {
        "id": "W8pOaTOp38iC"
      },
      "source": [
        "# **Training**"
      ]
    },
    {
      "cell_type": "markdown",
      "metadata": {
        "id": "awCxvO9x4BBW"
      },
      "source": [
        "**Model 1**"
      ]
    },
    {
      "cell_type": "code",
      "execution_count": null,
      "metadata": {
        "colab": {
          "base_uri": "https://localhost:8080/"
        },
        "id": "x7xjQ00b4Hym",
        "outputId": "195579af-89fa-4250-ceda-3040c725bf2c"
      },
      "outputs": [
        {
          "name": "stdout",
          "output_type": "stream",
          "text": [
            "Downloading data from https://storage.googleapis.com/tensorflow/keras-applications/densenet/densenet121_weights_tf_dim_ordering_tf_kernels_notop.h5\n",
            "29084464/29084464 [==============================] - 0s 0us/step\n",
            "Epoch 1/100\n",
            "450/450 [==============================] - ETA: 0s - loss: -0.2102 - accuracy: 0.7563\n",
            "Epoch 1: val_loss improved from inf to -0.21297, saving model to /content/drive/MyDrive/models/model1.h5\n",
            "450/450 [==============================] - 737s 1s/step - loss: -0.2102 - accuracy: 0.7563 - val_loss: -0.2130 - val_accuracy: 0.7176 - lr: 1.0000e-04\n",
            "Epoch 2/100\n",
            "450/450 [==============================] - ETA: 0s - loss: -0.2188 - accuracy: 0.8007\n",
            "Epoch 2: val_loss improved from -0.21297 to -0.21619, saving model to /content/drive/MyDrive/models/model1.h5\n",
            "450/450 [==============================] - 96s 212ms/step - loss: -0.2188 - accuracy: 0.8007 - val_loss: -0.2162 - val_accuracy: 0.8245 - lr: 1.0000e-04\n",
            "Epoch 3/100\n",
            "450/450 [==============================] - ETA: 0s - loss: -0.2225 - accuracy: 0.8229\n",
            "Epoch 3: val_loss improved from -0.21619 to -0.21965, saving model to /content/drive/MyDrive/models/model1.h5\n",
            "450/450 [==============================] - 96s 214ms/step - loss: -0.2225 - accuracy: 0.8229 - val_loss: -0.2197 - val_accuracy: 0.7995 - lr: 1.0000e-04\n",
            "Epoch 4/100\n",
            "450/450 [==============================] - ETA: 0s - loss: -0.2251 - accuracy: 0.8389\n",
            "Epoch 4: val_loss improved from -0.21965 to -0.22061, saving model to /content/drive/MyDrive/models/model1.h5\n",
            "450/450 [==============================] - 97s 214ms/step - loss: -0.2251 - accuracy: 0.8389 - val_loss: -0.2206 - val_accuracy: 0.8201 - lr: 1.0000e-04\n",
            "Epoch 5/100\n",
            "450/450 [==============================] - ETA: 0s - loss: -0.2280 - accuracy: 0.8589\n",
            "Epoch 5: val_loss did not improve from -0.22061\n",
            "450/450 [==============================] - 92s 205ms/step - loss: -0.2280 - accuracy: 0.8589 - val_loss: -0.2176 - val_accuracy: 0.8305 - lr: 1.0000e-04\n",
            "Epoch 6/100\n",
            "450/450 [==============================] - ETA: 0s - loss: -0.2299 - accuracy: 0.8695\n",
            "Epoch 6: val_loss did not improve from -0.22061\n",
            "450/450 [==============================] - 92s 205ms/step - loss: -0.2299 - accuracy: 0.8695 - val_loss: -0.2196 - val_accuracy: 0.8039 - lr: 1.0000e-04\n",
            "Epoch 7/100\n",
            "450/450 [==============================] - ETA: 0s - loss: -0.2306 - accuracy: 0.8749\n",
            "Epoch 7: val_loss improved from -0.22061 to -0.22144, saving model to /content/drive/MyDrive/models/model1.h5\n",
            "450/450 [==============================] - 98s 218ms/step - loss: -0.2306 - accuracy: 0.8749 - val_loss: -0.2214 - val_accuracy: 0.8286 - lr: 1.0000e-04\n",
            "Epoch 8/100\n",
            "450/450 [==============================] - ETA: 0s - loss: -0.2324 - accuracy: 0.8860\n",
            "Epoch 8: val_loss did not improve from -0.22144\n",
            "450/450 [==============================] - 93s 205ms/step - loss: -0.2324 - accuracy: 0.8860 - val_loss: -0.2195 - val_accuracy: 0.8080 - lr: 1.0000e-04\n",
            "Epoch 9/100\n",
            "450/450 [==============================] - ETA: 0s - loss: -0.2334 - accuracy: 0.8930\n",
            "Epoch 9: val_loss did not improve from -0.22144\n",
            "450/450 [==============================] - 94s 209ms/step - loss: -0.2334 - accuracy: 0.8930 - val_loss: -0.2191 - val_accuracy: 0.8249 - lr: 1.0000e-04\n",
            "Epoch 10/100\n",
            "450/450 [==============================] - ETA: 0s - loss: -0.2345 - accuracy: 0.9006\n",
            "Epoch 10: val_loss did not improve from -0.22144\n",
            "450/450 [==============================] - 94s 208ms/step - loss: -0.2345 - accuracy: 0.9006 - val_loss: -0.2163 - val_accuracy: 0.8340 - lr: 1.0000e-04\n",
            "Epoch 11/100\n",
            "450/450 [==============================] - ETA: 0s - loss: -0.2347 - accuracy: 0.9014\n",
            "Epoch 11: val_loss did not improve from -0.22144\n",
            "450/450 [==============================] - 92s 205ms/step - loss: -0.2347 - accuracy: 0.9014 - val_loss: -0.2176 - val_accuracy: 0.8014 - lr: 1.0000e-04\n",
            "Epoch 12/100\n",
            "450/450 [==============================] - ETA: 0s - loss: -0.2358 - accuracy: 0.9093\n",
            "Epoch 12: val_loss did not improve from -0.22144\n",
            "\n",
            "Epoch 12: ReduceLROnPlateau reducing learning rate to 9.999999747378752e-06.\n",
            "450/450 [==============================] - 94s 209ms/step - loss: -0.2358 - accuracy: 0.9093 - val_loss: -0.1945 - val_accuracy: 0.7847 - lr: 1.0000e-04\n",
            "Epoch 13/100\n",
            "450/450 [==============================] - ETA: 0s - loss: -0.2371 - accuracy: 0.9185\n",
            "Epoch 13: val_loss improved from -0.22144 to -0.22154, saving model to /content/drive/MyDrive/models/model1.h5\n",
            "450/450 [==============================] - 96s 212ms/step - loss: -0.2371 - accuracy: 0.9185 - val_loss: -0.2215 - val_accuracy: 0.8405 - lr: 1.0000e-05\n",
            "Epoch 14/100\n",
            "450/450 [==============================] - ETA: 0s - loss: -0.2383 - accuracy: 0.9270\n",
            "Epoch 14: val_loss did not improve from -0.22154\n",
            "450/450 [==============================] - 93s 205ms/step - loss: -0.2383 - accuracy: 0.9270 - val_loss: -0.2210 - val_accuracy: 0.8413 - lr: 1.0000e-05\n",
            "Epoch 15/100\n",
            "450/450 [==============================] - ETA: 0s - loss: -0.2389 - accuracy: 0.9315\n",
            "Epoch 15: val_loss did not improve from -0.22154\n",
            "450/450 [==============================] - 93s 206ms/step - loss: -0.2389 - accuracy: 0.9315 - val_loss: -0.2206 - val_accuracy: 0.8415 - lr: 1.0000e-05\n",
            "Epoch 16/100\n",
            "450/450 [==============================] - ETA: 0s - loss: -0.2395 - accuracy: 0.9353\n",
            "Epoch 16: val_loss did not improve from -0.22154\n",
            "450/450 [==============================] - 90s 200ms/step - loss: -0.2395 - accuracy: 0.9353 - val_loss: -0.2198 - val_accuracy: 0.8418 - lr: 1.0000e-05\n",
            "Epoch 17/100\n",
            "450/450 [==============================] - ETA: 0s - loss: -0.2399 - accuracy: 0.9383\n",
            "Epoch 17: val_loss did not improve from -0.22154\n",
            "\n",
            "Epoch 17: ReduceLROnPlateau reducing learning rate to 9.999999747378752e-07.\n",
            "450/450 [==============================] - 93s 207ms/step - loss: -0.2399 - accuracy: 0.9383 - val_loss: -0.2199 - val_accuracy: 0.8426 - lr: 1.0000e-05\n",
            "Epoch 18/100\n",
            "450/450 [==============================] - ETA: 0s - loss: -0.2402 - accuracy: 0.9412\n",
            "Epoch 18: val_loss did not improve from -0.22154\n",
            "450/450 [==============================] - 93s 206ms/step - loss: -0.2402 - accuracy: 0.9412 - val_loss: -0.2193 - val_accuracy: 0.8426 - lr: 1.0000e-06\n",
            "Epoch 19/100\n",
            "450/450 [==============================] - ETA: 0s - loss: -0.2404 - accuracy: 0.9420\n",
            "Epoch 19: val_loss did not improve from -0.22154\n",
            "450/450 [==============================] - 91s 203ms/step - loss: -0.2404 - accuracy: 0.9420 - val_loss: -0.2193 - val_accuracy: 0.8425 - lr: 1.0000e-06\n",
            "Epoch 20/100\n",
            "450/450 [==============================] - ETA: 0s - loss: -0.2405 - accuracy: 0.9427\n",
            "Epoch 20: val_loss did not improve from -0.22154\n",
            "450/450 [==============================] - 90s 201ms/step - loss: -0.2405 - accuracy: 0.9427 - val_loss: -0.2191 - val_accuracy: 0.8423 - lr: 1.0000e-06\n",
            "Epoch 21/100\n",
            "450/450 [==============================] - ETA: 0s - loss: -0.2406 - accuracy: 0.9432\n",
            "Epoch 21: val_loss did not improve from -0.22154\n",
            "450/450 [==============================] - 91s 202ms/step - loss: -0.2406 - accuracy: 0.9432 - val_loss: -0.2190 - val_accuracy: 0.8421 - lr: 1.0000e-06\n",
            "Epoch 22/100\n",
            "450/450 [==============================] - ETA: 0s - loss: -0.2406 - accuracy: 0.9438\n",
            "Epoch 22: val_loss did not improve from -0.22154\n",
            "\n",
            "Epoch 22: ReduceLROnPlateau reducing learning rate to 1e-07.\n",
            "450/450 [==============================] - 93s 206ms/step - loss: -0.2406 - accuracy: 0.9438 - val_loss: -0.2189 - val_accuracy: 0.8419 - lr: 1.0000e-06\n",
            "Epoch 23/100\n",
            "450/450 [==============================] - ETA: 0s - loss: -0.2407 - accuracy: 0.9447\n",
            "Epoch 23: val_loss did not improve from -0.22154\n",
            "450/450 [==============================] - 93s 206ms/step - loss: -0.2407 - accuracy: 0.9447 - val_loss: -0.2189 - val_accuracy: 0.8419 - lr: 1.0000e-07\n",
            "Epoch 24/100\n",
            "450/450 [==============================] - ETA: 0s - loss: -0.2407 - accuracy: 0.9445\n",
            "Epoch 24: val_loss did not improve from -0.22154\n",
            "450/450 [==============================] - 94s 209ms/step - loss: -0.2407 - accuracy: 0.9445 - val_loss: -0.2190 - val_accuracy: 0.8419 - lr: 1.0000e-07\n",
            "Epoch 25/100\n",
            "450/450 [==============================] - ETA: 0s - loss: -0.2407 - accuracy: 0.9445\n",
            "Epoch 25: val_loss did not improve from -0.22154\n",
            "450/450 [==============================] - 92s 205ms/step - loss: -0.2407 - accuracy: 0.9445 - val_loss: -0.2190 - val_accuracy: 0.8419 - lr: 1.0000e-07\n",
            "Epoch 26/100\n",
            "450/450 [==============================] - ETA: 0s - loss: -0.2407 - accuracy: 0.9445\n",
            "Epoch 26: val_loss did not improve from -0.22154\n",
            "450/450 [==============================] - 89s 198ms/step - loss: -0.2407 - accuracy: 0.9445 - val_loss: -0.2190 - val_accuracy: 0.8419 - lr: 1.0000e-07\n",
            "Epoch 27/100\n",
            "450/450 [==============================] - ETA: 0s - loss: -0.2407 - accuracy: 0.9445\n",
            "Epoch 27: val_loss did not improve from -0.22154\n",
            "450/450 [==============================] - 93s 206ms/step - loss: -0.2407 - accuracy: 0.9445 - val_loss: -0.2190 - val_accuracy: 0.8418 - lr: 1.0000e-07\n",
            "Epoch 28/100\n",
            "450/450 [==============================] - ETA: 0s - loss: -0.2407 - accuracy: 0.9446\n",
            "Epoch 28: val_loss did not improve from -0.22154\n",
            "450/450 [==============================] - 93s 207ms/step - loss: -0.2407 - accuracy: 0.9446 - val_loss: -0.2190 - val_accuracy: 0.8418 - lr: 1.0000e-07\n",
            "Epoch 29/100\n",
            "450/450 [==============================] - ETA: 0s - loss: -0.2407 - accuracy: 0.9447\n",
            "Epoch 29: val_loss did not improve from -0.22154\n",
            "450/450 [==============================] - 89s 198ms/step - loss: -0.2407 - accuracy: 0.9447 - val_loss: -0.2190 - val_accuracy: 0.8418 - lr: 1.0000e-07\n",
            "Epoch 30/100\n",
            "450/450 [==============================] - ETA: 0s - loss: -0.2408 - accuracy: 0.9447\n",
            "Epoch 30: val_loss did not improve from -0.22154\n",
            "450/450 [==============================] - 90s 201ms/step - loss: -0.2408 - accuracy: 0.9447 - val_loss: -0.2189 - val_accuracy: 0.8418 - lr: 1.0000e-07\n",
            "Epoch 31/100\n",
            "450/450 [==============================] - ETA: 0s - loss: -0.2408 - accuracy: 0.9448\n",
            "Epoch 31: val_loss did not improve from -0.22154\n",
            "450/450 [==============================] - 91s 201ms/step - loss: -0.2408 - accuracy: 0.9448 - val_loss: -0.2189 - val_accuracy: 0.8417 - lr: 1.0000e-07\n",
            "Epoch 32/100\n",
            "450/450 [==============================] - ETA: 0s - loss: -0.2408 - accuracy: 0.9449\n",
            "Epoch 32: val_loss did not improve from -0.22154\n",
            "450/450 [==============================] - 90s 199ms/step - loss: -0.2408 - accuracy: 0.9449 - val_loss: -0.2189 - val_accuracy: 0.8417 - lr: 1.0000e-07\n",
            "Epoch 33/100\n",
            "450/450 [==============================] - ETA: 0s - loss: -0.2408 - accuracy: 0.9449\n",
            "Epoch 33: val_loss did not improve from -0.22154\n",
            "450/450 [==============================] - 91s 203ms/step - loss: -0.2408 - accuracy: 0.9449 - val_loss: -0.2189 - val_accuracy: 0.8417 - lr: 1.0000e-07\n"
          ]
        }
      ],
      "source": [
        "input_shape = (224, 224, 3)\n",
        "model1 = build_densenet121_unet(input_shape)\n",
        "\n",
        "model1.compile(loss=Combo_loss, optimizer=Adam(lr), metrics=['accuracy'])\n",
        "\n",
        "callbacks = [\n",
        "    ModelCheckpoint(model_path1, verbose=1, save_best_only=True),\n",
        "    ReduceLROnPlateau(monitor='val_loss', factor=0.1, patience=5, min_lr=1e-7, verbose=1),\n",
        "    CSVLogger(csv_path1),\n",
        "    EarlyStopping(monitor='val_loss', patience=20, restore_best_weights=False),\n",
        "]\n",
        "\n",
        "history1=model1.fit(\n",
        "    train_dataset,\n",
        "    epochs=num_epochs,\n",
        "    validation_data=valid_dataset,\n",
        "    callbacks=callbacks\n",
        ")"
      ]
    },
    {
      "cell_type": "code",
      "execution_count": null,
      "metadata": {
        "colab": {
          "base_uri": "https://localhost:8080/",
          "height": 472
        },
        "id": "KzHzOryjj6oC",
        "outputId": "06588fdb-f7e3-4236-a4dc-3129ff84d5bb"
      },
      "outputs": [
        {
          "data": {
            "image/png": "[encoded data removed]",
            "text/plain": [
              "<Figure size 640x480 with 1 Axes>"
            ]
          },
          "metadata": {},
          "output_type": "display_data"
        }
      ],
      "source": [
        "loss = history1.history['loss']\n",
        "val_loss = history1.history['val_loss']\n",
        "epochs = range(1, len(loss) + 1)\n",
        "plt.plot(epochs, loss, 'y', label='Training loss')\n",
        "plt.plot(epochs, val_loss, 'r', label='Validation loss')\n",
        "plt.title('Training and validation loss of DenseNet121 Model')\n",
        "plt.xlabel('Epochs')\n",
        "plt.ylabel('Loss')\n",
        "plt.legend()\n",
        "plt.show()"
      ]
    },
    {
      "cell_type": "code",
      "execution_count": null,
      "metadata": {
        "colab": {
          "base_uri": "https://localhost:8080/",
          "height": 472
        },
        "id": "NbV1gawNkXCG",
        "outputId": "f89b4c7b-2a2b-419a-c8f3-ebbf2cb70700"
      },
      "outputs": [
        {
          "data": {
            "image/png": "[encoded data removed]",
            "text/plain": [
              "<Figure size 640x480 with 1 Axes>"
            ]
          },
          "metadata": {},
          "output_type": "display_data"
        }
      ],
      "source": [
        "acc = history1.history['accuracy']\n",
        "val_acc = history1.history['val_accuracy']\n",
        "\n",
        "plt.plot(epochs, acc, 'y', label='Training Accuracy')\n",
        "plt.plot(epochs, val_acc, 'r', label='Validation Accuracy')\n",
        "plt.title('Training and validation Accuracy of DenseNet121 Model')\n",
        "plt.xlabel('Epochs')\n",
        "plt.ylabel('Accuracy')\n",
        "plt.legend()\n",
        "plt.show()"
      ]
    },
    {
      "cell_type": "markdown",
      "metadata": {
        "id": "gdyIrOJt49tK"
      },
      "source": [
        "**Model2**"
      ]
    },
    {
      "cell_type": "code",
      "execution_count": null,
      "metadata": {
        "colab": {
          "background_save": true,
          "base_uri": "https://localhost:8080/",
          "height": 1000
        },
        "id": "JCWUbNkb5BSV",
        "outputId": "3a2f8ad8-4b80-4a3a-e06e-7d2fdcb8579b"
      },
      "outputs": [
        {
          "name": "stdout",
          "output_type": "stream",
          "text": [
            "Epoch 1/100\n",
            "225/225 [==============================] - ETA: 0s - loss: -0.2142 - accuracy: 0.7544\n",
            "Epoch 1: val_loss improved from inf to -0.21821, saving model to /content/drive/MyDrive/models/model2.h5\n",
            "225/225 [==============================] - 203s 440ms/step - loss: -0.2142 - accuracy: 0.7544 - val_loss: -0.2182 - val_accuracy: 0.8182 - lr: 1.0000e-04\n",
            "Epoch 2/100\n",
            "225/225 [==============================] - ETA: 0s - loss: -0.2262 - accuracy: 0.8265\n",
            "Epoch 2: val_loss improved from -0.21821 to -0.22012, saving model to /content/drive/MyDrive/models/model2.h5\n",
            "225/225 [==============================] - 104s 461ms/step - loss: -0.2262 - accuracy: 0.8265 - val_loss: -0.2201 - val_accuracy: 0.8051 - lr: 1.0000e-04\n",
            "Epoch 3/100\n",
            "225/225 [==============================] - ETA: 0s - loss: -0.2309 - accuracy: 0.8553\n",
            "Epoch 3: val_loss did not improve from -0.22012\n",
            "225/225 [==============================] - 93s 414ms/step - loss: -0.2309 - accuracy: 0.8553 - val_loss: -0.2191 - val_accuracy: 0.7577 - lr: 1.0000e-04\n",
            "Epoch 4/100\n",
            "225/225 [==============================] - ETA: 0s - loss: -0.2337 - accuracy: 0.8734\n",
            "Epoch 4: val_loss did not improve from -0.22012\n",
            "225/225 [==============================] - 93s 414ms/step - loss: -0.2337 - accuracy: 0.8734 - val_loss: -0.2186 - val_accuracy: 0.8203 - lr: 1.0000e-04\n",
            "Epoch 5/100\n",
            "225/225 [==============================] - ETA: 0s - loss: -0.2364 - accuracy: 0.8908\n",
            "Epoch 5: val_loss improved from -0.22012 to -0.22343, saving model to /content/drive/MyDrive/models/model2.h5\n",
            "225/225 [==============================] - 106s 470ms/step - loss: -0.2364 - accuracy: 0.8908 - val_loss: -0.2234 - val_accuracy: 0.8297 - lr: 1.0000e-04\n",
            "Epoch 6/100\n",
            "225/225 [==============================] - ETA: 0s - loss: -0.2378 - accuracy: 0.9003\n",
            "Epoch 6: val_loss did not improve from -0.22343\n",
            "225/225 [==============================] - 94s 416ms/step - loss: -0.2378 - accuracy: 0.9003 - val_loss: -0.2209 - val_accuracy: 0.8356 - lr: 1.0000e-04\n",
            "Epoch 7/100\n",
            "225/225 [==============================] - ETA: 0s - loss: -0.2393 - accuracy: 0.9101\n",
            "Epoch 7: val_loss improved from -0.22343 to -0.22382, saving model to /content/drive/MyDrive/models/model2.h5\n",
            "225/225 [==============================] - 103s 458ms/step - loss: -0.2393 - accuracy: 0.9101 - val_loss: -0.2238 - val_accuracy: 0.8415 - lr: 1.0000e-04\n",
            "Epoch 8/100\n",
            "225/225 [==============================] - ETA: 0s - loss: -0.2398 - accuracy: 0.9144\n",
            "Epoch 8: val_loss did not improve from -0.22382\n",
            "225/225 [==============================] - 93s 414ms/step - loss: -0.2398 - accuracy: 0.9144 - val_loss: -0.2217 - val_accuracy: 0.8346 - lr: 1.0000e-04\n",
            "Epoch 9/100\n",
            "225/225 [==============================] - ETA: 0s - loss: -0.2404 - accuracy: 0.9186\n",
            "Epoch 9: val_loss did not improve from -0.22382\n",
            "225/225 [==============================] - 93s 413ms/step - loss: -0.2404 - accuracy: 0.9186 - val_loss: -0.2228 - val_accuracy: 0.8162 - lr: 1.0000e-04\n",
            "Epoch 10/100\n",
            "225/225 [==============================] - ETA: 0s - loss: -0.2413 - accuracy: 0.9252\n",
            "Epoch 10: val_loss did not improve from -0.22382\n",
            "225/225 [==============================] - 94s 417ms/step - loss: -0.2413 - accuracy: 0.9252 - val_loss: -0.2191 - val_accuracy: 0.8184 - lr: 1.0000e-04\n",
            "Epoch 11/100\n",
            "225/225 [==============================] - ETA: 0s - loss: -0.2425 - accuracy: 0.9328\n",
            "Epoch 11: val_loss improved from -0.22382 to -0.22425, saving model to /content/drive/MyDrive/models/model2.h5\n",
            "225/225 [==============================] - 106s 470ms/step - loss: -0.2425 - accuracy: 0.9328 - val_loss: -0.2243 - val_accuracy: 0.8281 - lr: 1.0000e-04\n",
            "Epoch 12/100\n",
            "225/225 [==============================] - ETA: 0s - loss: -0.2432 - accuracy: 0.9380\n",
            "Epoch 12: val_loss did not improve from -0.22425\n",
            "225/225 [==============================] - 95s 421ms/step - loss: -0.2432 - accuracy: 0.9380 - val_loss: -0.2202 - val_accuracy: 0.8382 - lr: 1.0000e-04\n",
            "Epoch 13/100\n",
            "225/225 [==============================] - ETA: 0s - loss: -0.2436 - accuracy: 0.9412"
          ]
        }
      ],
      "source": [
        "input_shape = (224, 224, 3)\n",
        "model2 = build_inception_resnetv2_unet(input_shape)\n",
        "\n",
        "model2.compile(loss=Combo_loss, optimizer=Adam(lr), metrics=['accuracy'])\n",
        "\n",
        "callbacks = [\n",
        "    ModelCheckpoint(model_path2, verbose=1, save_best_only=True),\n",
        "    ReduceLROnPlateau(monitor='val_loss', factor=0.1, patience=5, min_lr=1e-7, verbose=1),\n",
        "    CSVLogger(csv_path2),\n",
        "    EarlyStopping(monitor='val_loss', patience=20, restore_best_weights=False),\n",
        "]\n",
        "\n",
        "history2=model2.fit(\n",
        "    train_dataset,\n",
        "    epochs=num_epochs,\n",
        "    validation_data=valid_dataset,\n",
        "    callbacks=callbacks\n",
        ")"
      ]
    },
    {
      "cell_type": "code",
      "execution_count": null,
      "metadata": {
        "colab": {
          "base_uri": "https://localhost:8080/",
          "height": 472
        },
        "id": "Eh4BkxRJkdQc",
        "outputId": "0b8126cc-d623-4651-92ae-8f66c83bf6d3"
      },
      "outputs": [
        {
          "data": {
            "image/png": "[encoded data removed]",
            "text/plain": [
              "<Figure size 640x480 with 1 Axes>"
            ]
          },
          "metadata": {},
          "output_type": "display_data"
        }
      ],
      "source": [
        "loss = history2.history['loss']\n",
        "val_loss = history2.history['val_loss']\n",
        "epochs = range(1, len(loss) + 1)\n",
        "plt.plot(epochs, loss, 'y', label='Training loss')\n",
        "plt.plot(epochs, val_loss, 'r', label='Validation loss')\n",
        "plt.title('Training and validation loss of InceptionResNetV2 Model')\n",
        "plt.xlabel('Epochs')\n",
        "plt.ylabel('Loss')\n",
        "plt.legend()\n",
        "plt.show()"
      ]
    },
    {
      "cell_type": "code",
      "execution_count": null,
      "metadata": {
        "colab": {
          "base_uri": "https://localhost:8080/",
          "height": 472
        },
        "id": "Q16f31Bck1sP",
        "outputId": "77271010-97ae-49b6-86e6-33dc7a18f858"
      },
      "outputs": [
        {
          "data": {
            "image/png": "[encoded data removed]",
            "text/plain": [
              "<Figure size 640x480 with 1 Axes>"
            ]
          },
          "metadata": {},
          "output_type": "display_data"
        }
      ],
      "source": [
        "acc = history2.history['accuracy']\n",
        "val_acc = history2.history['val_accuracy']\n",
        "\n",
        "plt.plot(epochs, acc, 'y', label='Training Accuracy')\n",
        "plt.plot(epochs, val_acc, 'r', label='Validation Accuracy')\n",
        "plt.title('Training and validation Accuracy of InceptionResNetV2 Model')\n",
        "plt.xlabel('Epochs')\n",
        "plt.ylabel('Accuracy')\n",
        "plt.legend()\n",
        "plt.show()"
      ]
    },
    {
      "cell_type": "markdown",
      "metadata": {
        "id": "WU5_6nAL5fx5"
      },
      "source": [
        "**Model3**"
      ]
    },
    {
      "cell_type": "code",
      "execution_count": null,
      "metadata": {
        "colab": {
          "base_uri": "https://localhost:8080/"
        },
        "id": "iVq2rQD15irX",
        "outputId": "e16962a5-4d51-4ecb-ad0b-4f570e83d260"
      },
      "outputs": [
        {
          "name": "stdout",
          "output_type": "stream",
          "text": [
            "(None, 28, 28, 256)\n",
            "(None, 28, 28, 48)\n",
            "Model: \"model_3\"\n",
            "__________________________________________________________________________________________________\n",
            " Layer (type)                   Output Shape         Param #     Connected to                     \n",
            "==================================================================================================\n",
            " input_4 (InputLayer)           [(None, 224, 224, 3  0           []                               \n",
            "                                )]                                                                \n",
            "                                                                                                  \n",
            " block1_conv1 (Conv2D)          (None, 111, 111, 32  864         ['input_4[0][0]']                \n",
            "                                )                                                                 \n",
            "                                                                                                  \n",
            " block1_conv1_bn (BatchNormaliz  (None, 111, 111, 32  128        ['block1_conv1[0][0]']           \n",
            " ation)                         )                                                                 \n",
            "                                                                                                  \n",
            " block1_conv1_act (Activation)  (None, 111, 111, 32  0           ['block1_conv1_bn[0][0]']        \n",
            "                                )                                                                 \n",
            "                                                                                                  \n",
            " block1_conv2 (Conv2D)          (None, 109, 109, 64  18432       ['block1_conv1_act[0][0]']       \n",
            "                                )                                                                 \n",
            "                                                                                                  \n",
            " block1_conv2_bn (BatchNormaliz  (None, 109, 109, 64  256        ['block1_conv2[0][0]']           \n",
            " ation)                         )                                                                 \n",
            "                                                                                                  \n",
            " block1_conv2_act (Activation)  (None, 109, 109, 64  0           ['block1_conv2_bn[0][0]']        \n",
            "                                )                                                                 \n",
            "                                                                                                  \n",
            " block2_sepconv1 (SeparableConv  (None, 109, 109, 12  8768       ['block1_conv2_act[0][0]']       \n",
            " 2D)                            8)                                                                \n",
            "                                                                                                  \n",
            " block2_sepconv1_bn (BatchNorma  (None, 109, 109, 12  512        ['block2_sepconv1[0][0]']        \n",
            " lization)                      8)                                                                \n",
            "                                                                                                  \n",
            " block2_sepconv2_act (Activatio  (None, 109, 109, 12  0          ['block2_sepconv1_bn[0][0]']     \n",
            " n)                             8)                                                                \n",
            "                                                                                                  \n",
            " block2_sepconv2 (SeparableConv  (None, 109, 109, 12  17536      ['block2_sepconv2_act[0][0]']    \n",
            " 2D)                            8)                                                                \n",
            "                                                                                                  \n",
            " block2_sepconv2_bn (BatchNorma  (None, 109, 109, 12  512        ['block2_sepconv2[0][0]']        \n",
            " lization)                      8)                                                                \n",
            "                                                                                                  \n",
            " conv2d_239 (Conv2D)            (None, 55, 55, 128)  8192        ['block1_conv2_act[0][0]']       \n",
            "                                                                                                  \n",
            " block2_pool (MaxPooling2D)     (None, 55, 55, 128)  0           ['block2_sepconv2_bn[0][0]']     \n",
            "                                                                                                  \n",
            " batch_normalization_236 (Batch  (None, 55, 55, 128)  512        ['conv2d_239[0][0]']             \n",
            " Normalization)                                                                                   \n",
            "                                                                                                  \n",
            " add_24 (Add)                   (None, 55, 55, 128)  0           ['block2_pool[0][0]',            \n",
            "                                                                  'batch_normalization_236[0][0]']\n",
            "                                                                                                  \n",
            " block3_sepconv1_act (Activatio  (None, 55, 55, 128)  0          ['add_24[0][0]']                 \n",
            " n)                                                                                               \n",
            "                                                                                                  \n",
            " block3_sepconv1 (SeparableConv  (None, 55, 55, 256)  33920      ['block3_sepconv1_act[0][0]']    \n",
            " 2D)                                                                                              \n",
            "                                                                                                  \n",
            " block3_sepconv1_bn (BatchNorma  (None, 55, 55, 256)  1024       ['block3_sepconv1[0][0]']        \n",
            " lization)                                                                                        \n",
            "                                                                                                  \n",
            " block3_sepconv2_act (Activatio  (None, 55, 55, 256)  0          ['block3_sepconv1_bn[0][0]']     \n",
            " n)                                                                                               \n",
            "                                                                                                  \n",
            " block3_sepconv2 (SeparableConv  (None, 55, 55, 256)  67840      ['block3_sepconv2_act[0][0]']    \n",
            " 2D)                                                                                              \n",
            "                                                                                                  \n",
            " block3_sepconv2_bn (BatchNorma  (None, 55, 55, 256)  1024       ['block3_sepconv2[0][0]']        \n",
            " lization)                                                                                        \n",
            "                                                                                                  \n",
            " conv2d_240 (Conv2D)            (None, 28, 28, 256)  32768       ['add_24[0][0]']                 \n",
            "                                                                                                  \n",
            " block3_pool (MaxPooling2D)     (None, 28, 28, 256)  0           ['block3_sepconv2_bn[0][0]']     \n",
            "                                                                                                  \n",
            " batch_normalization_237 (Batch  (None, 28, 28, 256)  1024       ['conv2d_240[0][0]']             \n",
            " Normalization)                                                                                   \n",
            "                                                                                                  \n",
            " add_25 (Add)                   (None, 28, 28, 256)  0           ['block3_pool[0][0]',            \n",
            "                                                                  'batch_normalization_237[0][0]']\n",
            "                                                                                                  \n",
            " block4_sepconv1_act (Activatio  (None, 28, 28, 256)  0          ['add_25[0][0]']                 \n",
            " n)                                                                                               \n",
            "                                                                                                  \n",
            " block4_sepconv1 (SeparableConv  (None, 28, 28, 728)  188672     ['block4_sepconv1_act[0][0]']    \n",
            " 2D)                                                                                              \n",
            "                                                                                                  \n",
            " block4_sepconv1_bn (BatchNorma  (None, 28, 28, 728)  2912       ['block4_sepconv1[0][0]']        \n",
            " lization)                                                                                        \n",
            "                                                                                                  \n",
            " block4_sepconv2_act (Activatio  (None, 28, 28, 728)  0          ['block4_sepconv1_bn[0][0]']     \n",
            " n)                                                                                               \n",
            "                                                                                                  \n",
            " block4_sepconv2 (SeparableConv  (None, 28, 28, 728)  536536     ['block4_sepconv2_act[0][0]']    \n",
            " 2D)                                                                                              \n",
            "                                                                                                  \n",
            " block4_sepconv2_bn (BatchNorma  (None, 28, 28, 728)  2912       ['block4_sepconv2[0][0]']        \n",
            " lization)                                                                                        \n",
            "                                                                                                  \n",
            " conv2d_241 (Conv2D)            (None, 14, 14, 728)  186368      ['add_25[0][0]']                 \n",
            "                                                                                                  \n",
            " block4_pool (MaxPooling2D)     (None, 14, 14, 728)  0           ['block4_sepconv2_bn[0][0]']     \n",
            "                                                                                                  \n",
            " batch_normalization_238 (Batch  (None, 14, 14, 728)  2912       ['conv2d_241[0][0]']             \n",
            " Normalization)                                                                                   \n",
            "                                                                                                  \n",
            " add_26 (Add)                   (None, 14, 14, 728)  0           ['block4_pool[0][0]',            \n",
            "                                                                  'batch_normalization_238[0][0]']\n",
            "                                                                                                  \n",
            " block5_sepconv1_act (Activatio  (None, 14, 14, 728)  0          ['add_26[0][0]']                 \n",
            " n)                                                                                               \n",
            "                                                                                                  \n",
            " block5_sepconv1 (SeparableConv  (None, 14, 14, 728)  536536     ['block5_sepconv1_act[0][0]']    \n",
            " 2D)                                                                                              \n",
            "                                                                                                  \n",
            " block5_sepconv1_bn (BatchNorma  (None, 14, 14, 728)  2912       ['block5_sepconv1[0][0]']        \n",
            " lization)                                                                                        \n",
            "                                                                                                  \n",
            " block5_sepconv2_act (Activatio  (None, 14, 14, 728)  0          ['block5_sepconv1_bn[0][0]']     \n",
            " n)                                                                                               \n",
            "                                                                                                  \n",
            " block5_sepconv2 (SeparableConv  (None, 14, 14, 728)  536536     ['block5_sepconv2_act[0][0]']    \n",
            " 2D)                                                                                              \n",
            "                                                                                                  \n",
            " block5_sepconv2_bn (BatchNorma  (None, 14, 14, 728)  2912       ['block5_sepconv2[0][0]']        \n",
            " lization)                                                                                        \n",
            "                                                                                                  \n",
            " block5_sepconv3_act (Activatio  (None, 14, 14, 728)  0          ['block5_sepconv2_bn[0][0]']     \n",
            " n)                                                                                               \n",
            "                                                                                                  \n",
            " block5_sepconv3 (SeparableConv  (None, 14, 14, 728)  536536     ['block5_sepconv3_act[0][0]']    \n",
            " 2D)                                                                                              \n",
            "                                                                                                  \n",
            " block5_sepconv3_bn (BatchNorma  (None, 14, 14, 728)  2912       ['block5_sepconv3[0][0]']        \n",
            " lization)                                                                                        \n",
            "                                                                                                  \n",
            " add_27 (Add)                   (None, 14, 14, 728)  0           ['block5_sepconv3_bn[0][0]',     \n",
            "                                                                  'add_26[0][0]']                 \n",
            "                                                                                                  \n",
            " block6_sepconv1_act (Activatio  (None, 14, 14, 728)  0          ['add_27[0][0]']                 \n",
            " n)                                                                                               \n",
            "                                                                                                  \n",
            " block6_sepconv1 (SeparableConv  (None, 14, 14, 728)  536536     ['block6_sepconv1_act[0][0]']    \n",
            " 2D)                                                                                              \n",
            "                                                                                                  \n",
            " block6_sepconv1_bn (BatchNorma  (None, 14, 14, 728)  2912       ['block6_sepconv1[0][0]']        \n",
            " lization)                                                                                        \n",
            "                                                                                                  \n",
            " block6_sepconv2_act (Activatio  (None, 14, 14, 728)  0          ['block6_sepconv1_bn[0][0]']     \n",
            " n)                                                                                               \n",
            "                                                                                                  \n",
            " block6_sepconv2 (SeparableConv  (None, 14, 14, 728)  536536     ['block6_sepconv2_act[0][0]']    \n",
            " 2D)                                                                                              \n",
            "                                                                                                  \n",
            " block6_sepconv2_bn (BatchNorma  (None, 14, 14, 728)  2912       ['block6_sepconv2[0][0]']        \n",
            " lization)                                                                                        \n",
            "                                                                                                  \n",
            " block6_sepconv3_act (Activatio  (None, 14, 14, 728)  0          ['block6_sepconv2_bn[0][0]']     \n",
            " n)                                                                                               \n",
            "                                                                                                  \n",
            " block6_sepconv3 (SeparableConv  (None, 14, 14, 728)  536536     ['block6_sepconv3_act[0][0]']    \n",
            " 2D)                                                                                              \n",
            "                                                                                                  \n",
            " block6_sepconv3_bn (BatchNorma  (None, 14, 14, 728)  2912       ['block6_sepconv3[0][0]']        \n",
            " lization)                                                                                        \n",
            "                                                                                                  \n",
            " add_28 (Add)                   (None, 14, 14, 728)  0           ['block6_sepconv3_bn[0][0]',     \n",
            "                                                                  'add_27[0][0]']                 \n",
            "                                                                                                  \n",
            " block7_sepconv1_act (Activatio  (None, 14, 14, 728)  0          ['add_28[0][0]']                 \n",
            " n)                                                                                               \n",
            "                                                                                                  \n",
            " block7_sepconv1 (SeparableConv  (None, 14, 14, 728)  536536     ['block7_sepconv1_act[0][0]']    \n",
            " 2D)                                                                                              \n",
            "                                                                                                  \n",
            " block7_sepconv1_bn (BatchNorma  (None, 14, 14, 728)  2912       ['block7_sepconv1[0][0]']        \n",
            " lization)                                                                                        \n",
            "                                                                                                  \n",
            " block7_sepconv2_act (Activatio  (None, 14, 14, 728)  0          ['block7_sepconv1_bn[0][0]']     \n",
            " n)                                                                                               \n",
            "                                                                                                  \n",
            " block7_sepconv2 (SeparableConv  (None, 14, 14, 728)  536536     ['block7_sepconv2_act[0][0]']    \n",
            " 2D)                                                                                              \n",
            "                                                                                                  \n",
            " block7_sepconv2_bn (BatchNorma  (None, 14, 14, 728)  2912       ['block7_sepconv2[0][0]']        \n",
            " lization)                                                                                        \n",
            "                                                                                                  \n",
            " block7_sepconv3_act (Activatio  (None, 14, 14, 728)  0          ['block7_sepconv2_bn[0][0]']     \n",
            " n)                                                                                               \n",
            "                                                                                                  \n",
            " block7_sepconv3 (SeparableConv  (None, 14, 14, 728)  536536     ['block7_sepconv3_act[0][0]']    \n",
            " 2D)                                                                                              \n",
            "                                                                                                  \n",
            " block7_sepconv3_bn (BatchNorma  (None, 14, 14, 728)  2912       ['block7_sepconv3[0][0]']        \n",
            " lization)                                                                                        \n",
            "                                                                                                  \n",
            " add_29 (Add)                   (None, 14, 14, 728)  0           ['block7_sepconv3_bn[0][0]',     \n",
            "                                                                  'add_28[0][0]']                 \n",
            "                                                                                                  \n",
            " block8_sepconv1_act (Activatio  (None, 14, 14, 728)  0          ['add_29[0][0]']                 \n",
            " n)                                                                                               \n",
            "                                                                                                  \n",
            " block8_sepconv1 (SeparableConv  (None, 14, 14, 728)  536536     ['block8_sepconv1_act[0][0]']    \n",
            " 2D)                                                                                              \n",
            "                                                                                                  \n",
            " block8_sepconv1_bn (BatchNorma  (None, 14, 14, 728)  2912       ['block8_sepconv1[0][0]']        \n",
            " lization)                                                                                        \n",
            "                                                                                                  \n",
            " block8_sepconv2_act (Activatio  (None, 14, 14, 728)  0          ['block8_sepconv1_bn[0][0]']     \n",
            " n)                                                                                               \n",
            "                                                                                                  \n",
            " block8_sepconv2 (SeparableConv  (None, 14, 14, 728)  536536     ['block8_sepconv2_act[0][0]']    \n",
            " 2D)                                                                                              \n",
            "                                                                                                  \n",
            " block8_sepconv2_bn (BatchNorma  (None, 14, 14, 728)  2912       ['block8_sepconv2[0][0]']        \n",
            " lization)                                                                                        \n",
            "                                                                                                  \n",
            " block8_sepconv3_act (Activatio  (None, 14, 14, 728)  0          ['block8_sepconv2_bn[0][0]']     \n",
            " n)                                                                                               \n",
            "                                                                                                  \n",
            " block8_sepconv3 (SeparableConv  (None, 14, 14, 728)  536536     ['block8_sepconv3_act[0][0]']    \n",
            " 2D)                                                                                              \n",
            "                                                                                                  \n",
            " block8_sepconv3_bn (BatchNorma  (None, 14, 14, 728)  2912       ['block8_sepconv3[0][0]']        \n",
            " lization)                                                                                        \n",
            "                                                                                                  \n",
            " add_30 (Add)                   (None, 14, 14, 728)  0           ['block8_sepconv3_bn[0][0]',     \n",
            "                                                                  'add_29[0][0]']                 \n",
            "                                                                                                  \n",
            " block9_sepconv1_act (Activatio  (None, 14, 14, 728)  0          ['add_30[0][0]']                 \n",
            " n)                                                                                               \n",
            "                                                                                                  \n",
            " block9_sepconv1 (SeparableConv  (None, 14, 14, 728)  536536     ['block9_sepconv1_act[0][0]']    \n",
            " 2D)                                                                                              \n",
            "                                                                                                  \n",
            " block9_sepconv1_bn (BatchNorma  (None, 14, 14, 728)  2912       ['block9_sepconv1[0][0]']        \n",
            " lization)                                                                                        \n",
            "                                                                                                  \n",
            " block9_sepconv2_act (Activatio  (None, 14, 14, 728)  0          ['block9_sepconv1_bn[0][0]']     \n",
            " n)                                                                                               \n",
            "                                                                                                  \n",
            " block9_sepconv2 (SeparableConv  (None, 14, 14, 728)  536536     ['block9_sepconv2_act[0][0]']    \n",
            " 2D)                                                                                              \n",
            "                                                                                                  \n",
            " block9_sepconv2_bn (BatchNorma  (None, 14, 14, 728)  2912       ['block9_sepconv2[0][0]']        \n",
            " lization)                                                                                        \n",
            "                                                                                                  \n",
            " block9_sepconv3_act (Activatio  (None, 14, 14, 728)  0          ['block9_sepconv2_bn[0][0]']     \n",
            " n)                                                                                               \n",
            "                                                                                                  \n",
            " block9_sepconv3 (SeparableConv  (None, 14, 14, 728)  536536     ['block9_sepconv3_act[0][0]']    \n",
            " 2D)                                                                                              \n",
            "                                                                                                  \n",
            " block9_sepconv3_bn (BatchNorma  (None, 14, 14, 728)  2912       ['block9_sepconv3[0][0]']        \n",
            " lization)                                                                                        \n",
            "                                                                                                  \n",
            " add_31 (Add)                   (None, 14, 14, 728)  0           ['block9_sepconv3_bn[0][0]',     \n",
            "                                                                  'add_30[0][0]']                 \n",
            "                                                                                                  \n",
            " block10_sepconv1_act (Activati  (None, 14, 14, 728)  0          ['add_31[0][0]']                 \n",
            " on)                                                                                              \n",
            "                                                                                                  \n",
            " block10_sepconv1 (SeparableCon  (None, 14, 14, 728)  536536     ['block10_sepconv1_act[0][0]']   \n",
            " v2D)                                                                                             \n",
            "                                                                                                  \n",
            " block10_sepconv1_bn (BatchNorm  (None, 14, 14, 728)  2912       ['block10_sepconv1[0][0]']       \n",
            " alization)                                                                                       \n",
            "                                                                                                  \n",
            " block10_sepconv2_act (Activati  (None, 14, 14, 728)  0          ['block10_sepconv1_bn[0][0]']    \n",
            " on)                                                                                              \n",
            "                                                                                                  \n",
            " block10_sepconv2 (SeparableCon  (None, 14, 14, 728)  536536     ['block10_sepconv2_act[0][0]']   \n",
            " v2D)                                                                                             \n",
            "                                                                                                  \n",
            " block10_sepconv2_bn (BatchNorm  (None, 14, 14, 728)  2912       ['block10_sepconv2[0][0]']       \n",
            " alization)                                                                                       \n",
            "                                                                                                  \n",
            " block10_sepconv3_act (Activati  (None, 14, 14, 728)  0          ['block10_sepconv2_bn[0][0]']    \n",
            " on)                                                                                              \n",
            "                                                                                                  \n",
            " block10_sepconv3 (SeparableCon  (None, 14, 14, 728)  536536     ['block10_sepconv3_act[0][0]']   \n",
            " v2D)                                                                                             \n",
            "                                                                                                  \n",
            " block10_sepconv3_bn (BatchNorm  (None, 14, 14, 728)  2912       ['block10_sepconv3[0][0]']       \n",
            " alization)                                                                                       \n",
            "                                                                                                  \n",
            " add_32 (Add)                   (None, 14, 14, 728)  0           ['block10_sepconv3_bn[0][0]',    \n",
            "                                                                  'add_31[0][0]']                 \n",
            "                                                                                                  \n",
            " block11_sepconv1_act (Activati  (None, 14, 14, 728)  0          ['add_32[0][0]']                 \n",
            " on)                                                                                              \n",
            "                                                                                                  \n",
            " block11_sepconv1 (SeparableCon  (None, 14, 14, 728)  536536     ['block11_sepconv1_act[0][0]']   \n",
            " v2D)                                                                                             \n",
            "                                                                                                  \n",
            " block11_sepconv1_bn (BatchNorm  (None, 14, 14, 728)  2912       ['block11_sepconv1[0][0]']       \n",
            " alization)                                                                                       \n",
            "                                                                                                  \n",
            " block11_sepconv2_act (Activati  (None, 14, 14, 728)  0          ['block11_sepconv1_bn[0][0]']    \n",
            " on)                                                                                              \n",
            "                                                                                                  \n",
            " block11_sepconv2 (SeparableCon  (None, 14, 14, 728)  536536     ['block11_sepconv2_act[0][0]']   \n",
            " v2D)                                                                                             \n",
            "                                                                                                  \n",
            " block11_sepconv2_bn (BatchNorm  (None, 14, 14, 728)  2912       ['block11_sepconv2[0][0]']       \n",
            " alization)                                                                                       \n",
            "                                                                                                  \n",
            " block11_sepconv3_act (Activati  (None, 14, 14, 728)  0          ['block11_sepconv2_bn[0][0]']    \n",
            " on)                                                                                              \n",
            "                                                                                                  \n",
            " block11_sepconv3 (SeparableCon  (None, 14, 14, 728)  536536     ['block11_sepconv3_act[0][0]']   \n",
            " v2D)                                                                                             \n",
            "                                                                                                  \n",
            " block11_sepconv3_bn (BatchNorm  (None, 14, 14, 728)  2912       ['block11_sepconv3[0][0]']       \n",
            " alization)                                                                                       \n",
            "                                                                                                  \n",
            " add_33 (Add)                   (None, 14, 14, 728)  0           ['block11_sepconv3_bn[0][0]',    \n",
            "                                                                  'add_32[0][0]']                 \n",
            "                                                                                                  \n",
            " block12_sepconv1_act (Activati  (None, 14, 14, 728)  0          ['add_33[0][0]']                 \n",
            " on)                                                                                              \n",
            "                                                                                                  \n",
            " block12_sepconv1 (SeparableCon  (None, 14, 14, 728)  536536     ['block12_sepconv1_act[0][0]']   \n",
            " v2D)                                                                                             \n",
            "                                                                                                  \n",
            " block12_sepconv1_bn (BatchNorm  (None, 14, 14, 728)  2912       ['block12_sepconv1[0][0]']       \n",
            " alization)                                                                                       \n",
            "                                                                                                  \n",
            " block12_sepconv2_act (Activati  (None, 14, 14, 728)  0          ['block12_sepconv1_bn[0][0]']    \n",
            " on)                                                                                              \n",
            "                                                                                                  \n",
            " block12_sepconv2 (SeparableCon  (None, 14, 14, 728)  536536     ['block12_sepconv2_act[0][0]']   \n",
            " v2D)                                                                                             \n",
            "                                                                                                  \n",
            " block12_sepconv2_bn (BatchNorm  (None, 14, 14, 728)  2912       ['block12_sepconv2[0][0]']       \n",
            " alization)                                                                                       \n",
            "                                                                                                  \n",
            " block12_sepconv3_act (Activati  (None, 14, 14, 728)  0          ['block12_sepconv2_bn[0][0]']    \n",
            " on)                                                                                              \n",
            "                                                                                                  \n",
            " block12_sepconv3 (SeparableCon  (None, 14, 14, 728)  536536     ['block12_sepconv3_act[0][0]']   \n",
            " v2D)                                                                                             \n",
            "                                                                                                  \n",
            " block12_sepconv3_bn (BatchNorm  (None, 14, 14, 728)  2912       ['block12_sepconv3[0][0]']       \n",
            " alization)                                                                                       \n",
            "                                                                                                  \n",
            " add_34 (Add)                   (None, 14, 14, 728)  0           ['block12_sepconv3_bn[0][0]',    \n",
            "                                                                  'add_33[0][0]']                 \n",
            "                                                                                                  \n",
            " block13_sepconv1_act (Activati  (None, 14, 14, 728)  0          ['add_34[0][0]']                 \n",
            " on)                                                                                              \n",
            "                                                                                                  \n",
            " block13_sepconv1 (SeparableCon  (None, 14, 14, 728)  536536     ['block13_sepconv1_act[0][0]']   \n",
            " v2D)                                                                                             \n",
            "                                                                                                  \n",
            " block13_sepconv1_bn (BatchNorm  (None, 14, 14, 728)  2912       ['block13_sepconv1[0][0]']       \n",
            " alization)                                                                                       \n",
            "                                                                                                  \n",
            " block13_sepconv2_act (Activati  (None, 14, 14, 728)  0          ['block13_sepconv1_bn[0][0]']    \n",
            " on)                                                                                              \n",
            "                                                                                                  \n",
            " block13_sepconv2 (SeparableCon  (None, 14, 14, 1024  752024     ['block13_sepconv2_act[0][0]']   \n",
            " v2D)                           )                                                                 \n",
            "                                                                                                  \n",
            " block13_sepconv2_bn (BatchNorm  (None, 14, 14, 1024  4096       ['block13_sepconv2[0][0]']       \n",
            " alization)                     )                                                                 \n",
            "                                                                                                  \n",
            " conv2d_242 (Conv2D)            (None, 7, 7, 1024)   745472      ['add_34[0][0]']                 \n",
            "                                                                                                  \n",
            " block13_pool (MaxPooling2D)    (None, 7, 7, 1024)   0           ['block13_sepconv2_bn[0][0]']    \n",
            "                                                                                                  \n",
            " batch_normalization_239 (Batch  (None, 7, 7, 1024)  4096        ['conv2d_242[0][0]']             \n",
            " Normalization)                                                                                   \n",
            "                                                                                                  \n",
            " add_35 (Add)                   (None, 7, 7, 1024)   0           ['block13_pool[0][0]',           \n",
            "                                                                  'batch_normalization_239[0][0]']\n",
            "                                                                                                  \n",
            " block14_sepconv1 (SeparableCon  (None, 7, 7, 1536)  1582080     ['add_35[0][0]']                 \n",
            " v2D)                                                                                             \n",
            "                                                                                                  \n",
            " block14_sepconv1_bn (BatchNorm  (None, 7, 7, 1536)  6144        ['block14_sepconv1[0][0]']       \n",
            " alization)                                                                                       \n",
            "                                                                                                  \n",
            " block14_sepconv1_act (Activati  (None, 7, 7, 1536)  0           ['block14_sepconv1_bn[0][0]']    \n",
            " on)                                                                                              \n",
            "                                                                                                  \n",
            " block14_sepconv2 (SeparableCon  (None, 7, 7, 2048)  3159552     ['block14_sepconv1_act[0][0]']   \n",
            " v2D)                                                                                             \n",
            "                                                                                                  \n",
            " block14_sepconv2_bn (BatchNorm  (None, 7, 7, 2048)  8192        ['block14_sepconv2[0][0]']       \n",
            " alization)                                                                                       \n",
            "                                                                                                  \n",
            " block14_sepconv2_act (Activati  (None, 7, 7, 2048)  0           ['block14_sepconv2_bn[0][0]']    \n",
            " on)                                                                                              \n",
            "                                                                                                  \n",
            " average_pooling (AveragePoolin  (None, 1, 1, 2048)  0           ['block14_sepconv2_act[0][0]']   \n",
            " g2D)                                                                                             \n",
            "                                                                                                  \n",
            " conv2d_243 (Conv2D)            (None, 1, 1, 256)    524288      ['average_pooling[0][0]']        \n",
            "                                                                                                  \n",
            " bn_1 (BatchNormalization)      (None, 1, 1, 256)    1024        ['conv2d_243[0][0]']             \n",
            "                                                                                                  \n",
            " conv2d_244 (Conv2D)            (None, 7, 7, 256)    524288      ['block14_sepconv2_act[0][0]']   \n",
            "                                                                                                  \n",
            " conv2d_245 (Conv2D)            (None, 7, 7, 256)    4718592     ['block14_sepconv2_act[0][0]']   \n",
            "                                                                                                  \n",
            " conv2d_246 (Conv2D)            (None, 7, 7, 256)    4718592     ['block14_sepconv2_act[0][0]']   \n",
            "                                                                                                  \n",
            " conv2d_247 (Conv2D)            (None, 7, 7, 256)    4718592     ['block14_sepconv2_act[0][0]']   \n",
            "                                                                                                  \n",
            " relu_1 (Activation)            (None, 1, 1, 256)    0           ['bn_1[0][0]']                   \n",
            "                                                                                                  \n",
            " batch_normalization_240 (Batch  (None, 7, 7, 256)   1024        ['conv2d_244[0][0]']             \n",
            " Normalization)                                                                                   \n",
            "                                                                                                  \n",
            " batch_normalization_241 (Batch  (None, 7, 7, 256)   1024        ['conv2d_245[0][0]']             \n",
            " Normalization)                                                                                   \n",
            "                                                                                                  \n",
            " batch_normalization_242 (Batch  (None, 7, 7, 256)   1024        ['conv2d_246[0][0]']             \n",
            " Normalization)                                                                                   \n",
            "                                                                                                  \n",
            " batch_normalization_243 (Batch  (None, 7, 7, 256)   1024        ['conv2d_247[0][0]']             \n",
            " Normalization)                                                                                   \n",
            "                                                                                                  \n",
            " up_sampling2d_6 (UpSampling2D)  (None, 7, 7, 256)   0           ['relu_1[0][0]']                 \n",
            "                                                                                                  \n",
            " activation_230 (Activation)    (None, 7, 7, 256)    0           ['batch_normalization_240[0][0]']\n",
            "                                                                                                  \n",
            " activation_231 (Activation)    (None, 7, 7, 256)    0           ['batch_normalization_241[0][0]']\n",
            "                                                                                                  \n",
            " activation_232 (Activation)    (None, 7, 7, 256)    0           ['batch_normalization_242[0][0]']\n",
            "                                                                                                  \n",
            " activation_233 (Activation)    (None, 7, 7, 256)    0           ['batch_normalization_243[0][0]']\n",
            "                                                                                                  \n",
            " concatenate_8 (Concatenate)    (None, 7, 7, 1280)   0           ['up_sampling2d_6[0][0]',        \n",
            "                                                                  'activation_230[0][0]',         \n",
            "                                                                  'activation_231[0][0]',         \n",
            "                                                                  'activation_232[0][0]',         \n",
            "                                                                  'activation_233[0][0]']         \n",
            "                                                                                                  \n",
            " conv2d_248 (Conv2D)            (None, 7, 7, 256)    327680      ['concatenate_8[0][0]']          \n",
            "                                                                                                  \n",
            " batch_normalization_244 (Batch  (None, 7, 7, 256)   1024        ['conv2d_248[0][0]']             \n",
            " Normalization)                                                                                   \n",
            "                                                                                                  \n",
            " conv2d_249 (Conv2D)            (None, 28, 28, 48)   34944       ['block4_sepconv2_act[0][0]']    \n",
            "                                                                                                  \n",
            " activation_234 (Activation)    (None, 7, 7, 256)    0           ['batch_normalization_244[0][0]']\n",
            "                                                                                                  \n",
            " batch_normalization_245 (Batch  (None, 28, 28, 48)  192         ['conv2d_249[0][0]']             \n",
            " Normalization)                                                                                   \n",
            "                                                                                                  \n",
            " up_sampling2d_7 (UpSampling2D)  (None, 28, 28, 256)  0          ['activation_234[0][0]']         \n",
            "                                                                                                  \n",
            " activation_235 (Activation)    (None, 28, 28, 48)   0           ['batch_normalization_245[0][0]']\n",
            "                                                                                                  \n",
            " concatenate_9 (Concatenate)    (None, 28, 28, 304)  0           ['up_sampling2d_7[0][0]',        \n",
            "                                                                  'activation_235[0][0]']         \n",
            "                                                                                                  \n",
            " conv2d_250 (Conv2D)            (None, 28, 28, 256)  700416      ['concatenate_9[0][0]']          \n",
            "                                                                                                  \n",
            " batch_normalization_246 (Batch  (None, 28, 28, 256)  1024       ['conv2d_250[0][0]']             \n",
            " Normalization)                                                                                   \n",
            "                                                                                                  \n",
            " activation_236 (Activation)    (None, 28, 28, 256)  0           ['batch_normalization_246[0][0]']\n",
            "                                                                                                  \n",
            " conv2d_251 (Conv2D)            (None, 28, 28, 256)  589824      ['activation_236[0][0]']         \n",
            "                                                                                                  \n",
            " batch_normalization_247 (Batch  (None, 28, 28, 256)  1024       ['conv2d_251[0][0]']             \n",
            " Normalization)                                                                                   \n",
            "                                                                                                  \n",
            " activation_237 (Activation)    (None, 28, 28, 256)  0           ['batch_normalization_247[0][0]']\n",
            "                                                                                                  \n",
            " up_sampling2d_8 (UpSampling2D)  (None, 224, 224, 25  0          ['activation_237[0][0]']         \n",
            "                                6)                                                                \n",
            "                                                                                                  \n",
            " output_layer (Conv2D)          (None, 224, 224, 1)  257         ['up_sampling2d_8[0][0]']        \n",
            "                                                                                                  \n",
            " activation_238 (Activation)    (None, 224, 224, 1)  0           ['output_layer[0][0]']           \n",
            "                                                                                                  \n",
            "==================================================================================================\n",
            "Total params: 37,727,337\n",
            "Trainable params: 37,668,617\n",
            "Non-trainable params: 58,720\n",
            "__________________________________________________________________________________________________\n"
          ]
        }
      ],
      "source": [
        "input_shape = (224, 224, 3)\n",
        "model3 = DeepLabV3Plus(input_shape)\n",
        "model3.summary()\n",
        "model3.compile(loss=Combo_loss, optimizer=Adam(lr), metrics=['accuracy'])\n",
        "\n",
        "callbacks = [\n",
        "    ModelCheckpoint(model_path3, verbose=1, save_best_only=True),\n",
        "    ReduceLROnPlateau(monitor='val_loss', factor=0.1, patience=5, min_lr=1e-7, verbose=1),\n",
        "    CSVLogger(csv_path3),\n",
        "    EarlyStopping(monitor='val_loss', patience=10, restore_best_weights=False),\n",
        "]\n",
        "\n",
        "history3 = model3.fit(\n",
        "    train_dataset,\n",
        "    epochs=num_epochs,\n",
        "    validation_data=valid_dataset,\n",
        "    callbacks=callbacks\n",
        ")"
      ]
    },
    {
      "cell_type": "code",
      "execution_count": null,
      "metadata": {
        "colab": {
          "base_uri": "https://localhost:8080/",
          "height": 472
        },
        "id": "HapImsa79DxQ",
        "outputId": "c6cbff2b-1fe2-4b78-ca89-fa3eb1635751"
      },
      "outputs": [
        {
          "data": {
            "image/png": "[encoded data removed]",
            "text/plain": [
              "<Figure size 640x480 with 1 Axes>"
            ]
          },
          "metadata": {},
          "output_type": "display_data"
        }
      ],
      "source": [
        "loss = history3.history['loss']\n",
        "val_loss = history3.history['val_loss']\n",
        "epochs = range(1, len(loss) + 1)\n",
        "plt.plot(epochs, loss, 'y', label='Training loss')\n",
        "plt.plot(epochs, val_loss, 'r', label='Validation loss')\n",
        "plt.title('Training and validation loss of InceptionResNetV2 Model')\n",
        "plt.xlabel('Epochs')\n",
        "plt.ylabel('Loss')\n",
        "plt.legend()\n",
        "plt.show()"
      ]
    },
    {
      "cell_type": "code",
      "execution_count": null,
      "metadata": {
        "colab": {
          "base_uri": "https://localhost:8080/",
          "height": 927
        },
        "id": "nSj9hjGP9SgD",
        "outputId": "49fa317a-163b-4c80-a3c2-fdf984e2961c"
      },
      "outputs": [
        {
          "data": {
            "image/png": "[encoded data removed]",
            "text/plain": [
              "<Figure size 640x480 with 1 Axes>"
            ]
          },
          "metadata": {},
          "output_type": "display_data"
        },
        {
          "data": {
            "image/png": "[encoded data removed]",
            "text/plain": [
              "<Figure size 640x480 with 1 Axes>"
            ]
          },
          "metadata": {},
          "output_type": "display_data"
        }
      ],
      "source": [
        "acc = history3.history['accuracy']\n",
        "val_acc = history3.history['val_accuracy']\n",
        "\n",
        "plt.plot(epochs, acc, 'y', label='Training Accuracy')\n",
        "plt.plot(epochs, val_acc, 'r', label='Validation Accuracy')\n",
        "plt.title('Training and validation Accuracy of InceptionResNetV2 Model')\n",
        "plt.xlabel('Epochs')\n",
        "plt.ylabel('Accuracy')\n",
        "plt.legend()\n",
        "plt.show()"
      ]
    },
    {
      "cell_type": "markdown",
      "metadata": {
        "id": "fBML8TD5Dy8R"
      },
      "source": [
        "# **Testing**"
      ]
    },
    {
      "cell_type": "code",
      "execution_count": null,
      "metadata": {
        "id": "7xizpis7DyZM"
      },
      "outputs": [],
      "source": [
        "def save_results(image, mask, y_pred, save_image_path):\n",
        "    mask = np.expand_dims(mask, axis=-1)\n",
        "    mask = np.concatenate([mask, mask, mask], axis=-1)\n",
        "\n",
        "    y_pred = np.expand_dims(y_pred, axis=-1)\n",
        "    y_pred = np.concatenate([y_pred, y_pred, y_pred], axis=-1)\n",
        "    y_pred = y_pred * 255\n",
        "\n",
        "    line = np.ones((H, 10, 3)) * 255\n",
        "\n",
        "    cat_images = np.concatenate([image, line, mask, line, y_pred], axis=1)\n",
        "    cv2.imwrite(save_image_path, cat_images)\n",
        "\n",
        "\n",
        "def test(model,result_path):\n",
        "\n",
        "    \"\"\" Prediction and Evaluation \"\"\"\n",
        "    SCORE = []\n",
        "    for x, y in tqdm(zip(test_x[:20], test_y[:20]), total=len(test_y[:20])):\n",
        "\n",
        "        \"\"\" Extracting the name \"\"\"\n",
        "        name = x.split(\"/\")[-1]\n",
        "\n",
        "        \"\"\" Reading the image \"\"\"\n",
        "        image = cv2.imread(x, cv2.IMREAD_COLOR) ## [H, w, 3]\n",
        "        image = cv2.resize(image, (W, H))       ## [H, w, 3]\n",
        "        x = image/255.0                         ## [H, w, 3]\n",
        "        x = np.expand_dims(x, axis=0)           ## [1, H, w, 3]\n",
        "\n",
        "        \"\"\" Reading the mask \"\"\"\n",
        "        mask = cv2.imread(y, cv2.IMREAD_GRAYSCALE)\n",
        "        mask = cv2.resize(mask, (W, H))\n",
        "\n",
        "        \"\"\" Prediction \"\"\"\n",
        "        y_pred = model.predict(x, verbose=0)[0]\n",
        "        y_pred = np.squeeze(y_pred, axis=-1)\n",
        "        y_pred = y_pred >= 0.5\n",
        "        y_pred = y_pred.astype(np.int32)\n",
        "\n",
        "        \"\"\" Saving the prediction \"\"\"\n",
        "        save_image_path = os.path.join(result_path, name)\n",
        "        save_results(image, mask, y_pred, save_image_path)\n",
        "\n",
        "        \"\"\" Flatten the array \"\"\"\n",
        "        mask = mask/255.0\n",
        "        mask = (mask > 0.5).astype(np.int32).flatten()\n",
        "        y_pred = y_pred.flatten()\n",
        "\n",
        "        \"\"\" Calculating the metrics values \"\"\"\n",
        "        f1_value = f1_score(mask, y_pred, labels=[0, 1], average=\"binary\")\n",
        "        jac_value = jaccard_score(mask, y_pred, labels=[0, 1], average=\"binary\")\n",
        "        recall_value = recall_score(mask, y_pred, labels=[0, 1], average=\"binary\", zero_division=0)\n",
        "        precision_value = precision_score(mask, y_pred, labels=[0, 1], average=\"binary\", zero_division=0)\n",
        "        SCORE.append([name, f1_value, jac_value, recall_value, precision_value])\n",
        "\n",
        "    \"\"\" Metrics values \"\"\"\n",
        "    score = [s[1:]for s in SCORE]\n",
        "    score = np.mean(score, axis=0)\n",
        "    print(f\"F1: {score[0]:0.5f}\")\n",
        "    print(f\"Jaccard: {score[1]:0.5f}\")\n",
        "    print(f\"Recall: {score[2]:0.5f}\")\n",
        "    print(f\"Precision: {score[3]:0.5f}\")\n",
        "\n",
        "    df = pd.DataFrame(SCORE, columns=[\"Image\", \"F1\", \"Jaccard\", \"Recall\", \"Precision\"])\n",
        "    df.to_csv(os.path.join(result_path,\"score.csv\"))"
      ]
    },
    {
      "cell_type": "markdown",
      "metadata": {
        "id": "Rfu9VgH-KPss"
      },
      "source": [
        "**DenseNet121**"
      ]
    },
    {
      "cell_type": "code",
      "execution_count": null,
      "metadata": {
        "colab": {
          "base_uri": "https://localhost:8080/"
        },
        "id": "Gt2Ra5x5Ez0e",
        "outputId": "7f3a1666-e154-4a38-ebc8-1481a7e36550"
      },
      "outputs": [
        {
          "name": "stderr",
          "output_type": "stream",
          "text": [
            "100%|██████████| 20/20 [00:04<00:00,  4.33it/s]"
          ]
        },
        {
          "name": "stdout",
          "output_type": "stream",
          "text": [
            "F1: 0.82394\n",
            "Jaccard: 0.72929\n",
            "Recall: 0.94804\n",
            "Precision: 0.76773\n"
          ]
        },
        {
          "name": "stderr",
          "output_type": "stream",
          "text": [
            "\n"
          ]
        }
      ],
      "source": [
        "create_dir(\"/content/drive/MyDrive/models/results\")\n",
        "\n",
        "with CustomObjectScope({\"Combo_loss\": Combo_loss}):\n",
        "  model1 = load_model('/content/drive/MyDrive/models/model1.h5', compile=False)\n",
        "\n",
        "result_path1=\"/content/drive/MyDrive/models/results\"\n",
        "test(model1,result_path1)"
      ]
    },
    {
      "cell_type": "markdown",
      "metadata": {
        "id": "OkAZnd0O0sXo"
      },
      "source": [
        "**Non-Cancerous**"
      ]
    },
    {
      "cell_type": "code",
      "execution_count": null,
      "metadata": {
        "colab": {
          "base_uri": "https://localhost:8080/"
        },
        "id": "c8058BRxILPJ",
        "outputId": "71980b05-0e0d-4dbc-b4c6-797c5075dd2f"
      },
      "outputs": [
        {
          "name": "stderr",
          "output_type": "stream",
          "text": [
            "100%|██████████| 5/5 [00:00<00:00, 10.24it/s]\n"
          ]
        }
      ],
      "source": [
        "\n",
        "def save_results(image, y_pred, save_image_path):\n",
        "\n",
        "    y_pred = np.expand_dims(y_pred, axis=-1)\n",
        "    y_pred = np.concatenate([y_pred, y_pred, y_pred], axis=-1)\n",
        "    y_pred = y_pred * 255\n",
        "\n",
        "    line = np.ones((H, 10, 3)) * 255\n",
        "\n",
        "    cat_images = np.concatenate([image, line, y_pred], axis=1)\n",
        "    cv2.imwrite(save_image_path, cat_images)\n",
        "\n",
        "\n",
        "if __name__ == \"__main__\":\n",
        "\n",
        "    \"\"\" Directory for storing files \"\"\"\n",
        "    create_dir(\"/content/drive/MyDrive/dataset/non3\")\n",
        "\n",
        "    \"\"\" Dataset \"\"\"\n",
        "    path = \"/content/drive/MyDrive/dataset/non-cancer\"\n",
        "    images = sorted(glob(os.path.join(path, \"*.png\")))\n",
        "\n",
        "    \"\"\" Prediction and Evaluation \"\"\"\n",
        "    for x in tqdm(images, total=len(images)):\n",
        "        \"\"\" Extracting the name \"\"\"\n",
        "        name = x.split(\"/\")[-1]\n",
        "\n",
        "        \"\"\" Reading the image \"\"\"\n",
        "        image = cv2.imread(x, cv2.IMREAD_COLOR) ## [H, w, 3]\n",
        "        image = cv2.resize(image, (W, H))       ## [H, w, 3]\n",
        "        x = image/255.0                         ## [H, w, 3]\n",
        "        x = np.expand_dims(x, axis=0)           ## [1, H, w, 3]\n",
        "\n",
        "        \"\"\" Prediction \"\"\"\n",
        "        y_pred = model3.predict(x, verbose=0)[0]\n",
        "        y_pred = np.squeeze(y_pred, axis=-1)\n",
        "        y_pred = y_pred >= 0.5\n",
        "        y_pred = y_pred.astype(np.int32)\n",
        "\n",
        "        \"\"\" Saving the prediction \"\"\"\n",
        "        save_image_path = os.path.join(\"/content/drive/MyDrive/dataset/non3\", name)\n",
        "        save_results(image, y_pred, save_image_path)"
      ]
    },
    {
      "cell_type": "markdown",
      "metadata": {
        "id": "O7mZeOHcKWFO"
      },
      "source": [
        "**InceptionResNetV2**"
      ]
    },
    {
      "cell_type": "code",
      "execution_count": null,
      "metadata": {
        "colab": {
          "base_uri": "https://localhost:8080/"
        },
        "id": "8yUvD--dKaZJ",
        "outputId": "1d784b45-e990-4bc3-a6bf-1983f3406bc1"
      },
      "outputs": [
        {
          "name": "stderr",
          "output_type": "stream",
          "text": [
            "100%|██████████| 20/20 [00:19<00:00,  1.02it/s]"
          ]
        },
        {
          "name": "stdout",
          "output_type": "stream",
          "text": [
            "F1: 0.79515\n",
            "Jaccard: 0.69304\n",
            "Recall: 0.92880\n",
            "Precision: 0.72767\n"
          ]
        },
        {
          "name": "stderr",
          "output_type": "stream",
          "text": [
            "\n"
          ]
        }
      ],
      "source": [
        "create_dir(\"/content/drive/MyDrive/models/results2\")\n",
        "\n",
        "with CustomObjectScope({\"Combo_loss\": Combo_loss}):\n",
        "  model2 = load_model('/content/drive/MyDrive/models/model2.h5', compile=False)\n",
        "\n",
        "result_path2=\"/content/drive/MyDrive/models/results2\"\n",
        "test(model2,result_path2)"
      ]
    },
    {
      "cell_type": "markdown",
      "metadata": {
        "id": "weldITTzKwS7"
      },
      "source": [
        "**DeepLabV3+**"
      ]
    },
    {
      "cell_type": "code",
      "execution_count": null,
      "metadata": {
        "colab": {
          "base_uri": "https://localhost:8080/"
        },
        "id": "Dt3brohGK3c-",
        "outputId": "05f439fb-91cf-4e43-af18-23a946f718af"
      },
      "outputs": [
        {
          "name": "stderr",
          "output_type": "stream",
          "text": [
            "100%|██████████| 20/20 [00:05<00:00,  3.86it/s]\n"
          ]
        },
        {
          "name": "stdout",
          "output_type": "stream",
          "text": [
            "F1: 0.78379\n",
            "Jaccard: 0.69005\n",
            "Recall: 0.83589\n",
            "Precision: 0.80512\n"
          ]
        }
      ],
      "source": [
        "create_dir(\"/content/drive/MyDrive/dataset/results3\")\n",
        "\n",
        "with CustomObjectScope({\"Combo_loss\": Combo_loss}):\n",
        "  model3 = load_model('/content/drive/MyDrive/dataset/model3.h5', compile=False)\n",
        "\n",
        "result_path3=\"/content/drive/MyDrive/dataset/results3\"\n",
        "test(model3,result_path3)"
      ]
    },
    {
      "cell_type": "markdown",
      "metadata": {
        "id": "9o7M-hbKL2dA"
      },
      "source": [
        "# **Ensemble**"
      ]
    },
    {
      "cell_type": "code",
      "execution_count": null,
      "metadata": {
        "id": "WAfdIbi_ree3"
      },
      "outputs": [],
      "source": [
        "def save_results(image, mask, y_pred, save_image_path):\n",
        "    mask = np.expand_dims(mask, axis=-1)\n",
        "    mask = np.concatenate([mask, mask, mask], axis=-1)\n",
        "\n",
        "    y_pred = np.expand_dims(y_pred, axis=-1)\n",
        "    y_pred = np.concatenate([y_pred, y_pred, y_pred], axis=-1)\n",
        "    y_pred = y_pred * 255\n",
        "\n",
        "    line = np.ones((H, 10, 3)) * 255\n",
        "\n",
        "    cat_images = np.concatenate([image, line, mask, line, y_pred], axis=1)\n",
        "    cv2.imwrite(save_image_path, cat_images)\n",
        "\n",
        "\n",
        "def ensemble_model(result_path):\n",
        "\n",
        "    with CustomObjectScope({\"Combo_loss\": Combo_loss}):\n",
        "      model1 = load_model('/content/drive/MyDrive/dataset/model1.h5', compile=False)\n",
        "      model2 = load_model('/content/drive/MyDrive/dataset/model2.h5', compile=False)\n",
        "      model3 = load_model('/content/drive/MyDrive/dataset/model3.h5', compile=False)\n",
        "\n",
        "    models = [model1,model2,model3]\n",
        "    weights = [0.5, 0.3, 0.2]\n",
        "\n",
        "    \"\"\" Prediction and Evaluation \"\"\"\n",
        "    SCORE = []\n",
        "    for x, y in tqdm(zip(test_x, test_y), total=len(test_y)):\n",
        "\n",
        "        \"\"\" Extracting the name \"\"\"\n",
        "        name = x.split(\"/\")[-1]\n",
        "\n",
        "        \"\"\" Reading the image \"\"\"\n",
        "        image = cv2.imread(x, cv2.IMREAD_COLOR) ## [H, w, 3]\n",
        "        image = cv2.resize(image, (W, H))       ## [H, w, 3]\n",
        "        x = image/255.0                         ## [H, w, 3]\n",
        "        x = np.expand_dims(x, axis=0)           ## [1, H, w, 3]\n",
        "\n",
        "        \"\"\" Reading the mask \"\"\"\n",
        "        mask = cv2.imread(y, cv2.IMREAD_GRAYSCALE)\n",
        "        mask = cv2.resize(mask, (W, H))\n",
        "\n",
        "        \"\"\" Prediction \"\"\"\n",
        "        preds = [model.predict(x,verbose=0)[0] for model in models]\n",
        "        preds=np.array(preds)\n",
        "        y_pred = np.tensordot(preds, weights, axes=((0),(0)))\n",
        "        y_pred = np.squeeze(y_pred, axis=-1)\n",
        "        y_pred = y_pred >= 0.5\n",
        "        y_pred = y_pred.astype(np.int32)\n",
        "        print(y_pred)\n",
        "        \"\"\" Saving the prediction \"\"\"\n",
        "        save_image_path = os.path.join(result_path, name)\n",
        "        save_results(image, mask, y_pred, save_image_path)\n",
        "\n",
        "        \"\"\" Flatten the array \"\"\"\n",
        "        mask = mask/255.0\n",
        "        mask = (mask > 0.5).astype(np.int32).flatten()\n",
        "        y_pred = y_pred.flatten()\n",
        "\n",
        "        \"\"\" Calculating the metrics values \"\"\"\n",
        "        f1_value = f1_score(mask, y_pred, labels=[0, 1], average=\"binary\")\n",
        "        jac_value = jaccard_score(mask, y_pred, labels=[0, 1], average=\"binary\")\n",
        "        recall_value = recall_score(mask, y_pred, labels=[0, 1], average=\"binary\", zero_division=0)\n",
        "        precision_value = precision_score(mask, y_pred, labels=[0, 1], average=\"binary\", zero_division=0)\n",
        "        SCORE.append([name, f1_value, jac_value, recall_value, precision_value])\n",
        "\n",
        "    \"\"\" Metrics values \"\"\"\n",
        "    score = [s[1:]for s in SCORE]\n",
        "    score = np.mean(score, axis=0)\n",
        "    print(f\"F1: {score[0]:0.5f}\")\n",
        "    print(f\"Jaccard: {score[1]:0.5f}\")\n",
        "    print(f\"Recall: {score[2]:0.5f}\")\n",
        "    print(f\"Precision: {score[3]:0.5f}\")\n",
        "\n",
        "    df = pd.DataFrame(SCORE, columns=[\"Image\", \"F1\", \"Jaccard\", \"Recall\", \"Precision\"])\n",
        "    df.to_csv(os.path.join(result_path,\"score.csv\"))"
      ]
    },
    {
      "cell_type": "code",
      "execution_count": null,
      "metadata": {
        "colab": {
          "base_uri": "https://localhost:8080/"
        },
        "id": "xzcRh4J9s9te",
        "outputId": "4b7d52e3-3959-4a40-f99e-1290c25dec38"
      },
      "outputs": [
        {
          "name": "stderr",
          "output_type": "stream",
          "text": [
            "  5%|▌         | 1/20 [00:06<02:00,  6.36s/it]"
          ]
        },
        {
          "name": "stdout",
          "output_type": "stream",
          "text": [
            "[[0 0 0 ... 0 0 0]\n",
            " [0 0 0 ... 0 0 0]\n",
            " [0 0 0 ... 0 0 0]\n",
            " ...\n",
            " [1 1 1 ... 0 0 0]\n",
            " [1 1 1 ... 0 0 0]\n",
            " [1 1 1 ... 0 0 0]]\n"
          ]
        },
        {
          "name": "stderr",
          "output_type": "stream",
          "text": [
            "\r 10%|█         | 2/20 [00:06<00:51,  2.84s/it]"
          ]
        },
        {
          "name": "stdout",
          "output_type": "stream",
          "text": [
            "[[1 1 1 ... 1 1 1]\n",
            " [1 1 0 ... 1 1 1]\n",
            " [1 0 0 ... 1 1 1]\n",
            " ...\n",
            " [1 1 1 ... 1 1 1]\n",
            " [1 1 1 ... 1 1 1]\n",
            " [1 1 1 ... 1 1 1]]\n"
          ]
        },
        {
          "name": "stderr",
          "output_type": "stream",
          "text": [
            "\r 15%|█▌        | 3/20 [00:07<00:29,  1.72s/it]"
          ]
        },
        {
          "name": "stdout",
          "output_type": "stream",
          "text": [
            "[[1 1 1 ... 0 0 0]\n",
            " [1 1 1 ... 0 0 0]\n",
            " [1 1 1 ... 0 0 0]\n",
            " ...\n",
            " [1 1 1 ... 0 0 0]\n",
            " [1 1 1 ... 0 0 0]\n",
            " [1 1 1 ... 0 0 0]]\n"
          ]
        },
        {
          "name": "stderr",
          "output_type": "stream",
          "text": [
            "\r 20%|██        | 4/20 [00:07<00:19,  1.19s/it]"
          ]
        },
        {
          "name": "stdout",
          "output_type": "stream",
          "text": [
            "[[1 1 1 ... 1 1 1]\n",
            " [1 1 1 ... 1 1 1]\n",
            " [1 1 1 ... 1 1 1]\n",
            " ...\n",
            " [1 1 1 ... 1 1 1]\n",
            " [1 1 1 ... 1 1 1]\n",
            " [1 1 1 ... 1 1 1]]\n"
          ]
        },
        {
          "name": "stderr",
          "output_type": "stream",
          "text": [
            "\r 25%|██▌       | 5/20 [00:07<00:13,  1.11it/s]"
          ]
        },
        {
          "name": "stdout",
          "output_type": "stream",
          "text": [
            "[[1 1 1 ... 0 0 0]\n",
            " [1 1 1 ... 0 0 0]\n",
            " [1 1 1 ... 0 0 0]\n",
            " ...\n",
            " [0 0 0 ... 0 0 0]\n",
            " [0 0 0 ... 0 0 0]\n",
            " [0 0 0 ... 0 0 0]]\n"
          ]
        },
        {
          "name": "stderr",
          "output_type": "stream",
          "text": [
            "\r 30%|███       | 6/20 [00:08<00:10,  1.38it/s]"
          ]
        },
        {
          "name": "stdout",
          "output_type": "stream",
          "text": [
            "[[1 1 1 ... 1 1 1]\n",
            " [1 1 1 ... 1 1 1]\n",
            " [1 1 1 ... 1 1 1]\n",
            " ...\n",
            " [0 0 0 ... 0 0 0]\n",
            " [0 0 0 ... 0 0 0]\n",
            " [0 0 0 ... 0 0 0]]\n"
          ]
        },
        {
          "name": "stderr",
          "output_type": "stream",
          "text": [
            "\r 35%|███▌      | 7/20 [00:08<00:08,  1.61it/s]"
          ]
        },
        {
          "name": "stdout",
          "output_type": "stream",
          "text": [
            "[[0 0 0 ... 1 1 1]\n",
            " [0 0 0 ... 1 1 1]\n",
            " [0 0 0 ... 1 1 1]\n",
            " ...\n",
            " [0 0 0 ... 0 0 0]\n",
            " [0 0 0 ... 0 0 0]\n",
            " [0 0 0 ... 0 0 0]]\n"
          ]
        },
        {
          "name": "stderr",
          "output_type": "stream",
          "text": [
            "\r 40%|████      | 8/20 [00:09<00:06,  1.82it/s]"
          ]
        },
        {
          "name": "stdout",
          "output_type": "stream",
          "text": [
            "[[1 1 1 ... 1 1 1]\n",
            " [1 1 1 ... 1 1 1]\n",
            " [1 1 1 ... 1 1 1]\n",
            " ...\n",
            " [0 0 0 ... 0 0 0]\n",
            " [0 0 0 ... 0 0 0]\n",
            " [0 0 0 ... 0 0 0]]\n"
          ]
        },
        {
          "name": "stderr",
          "output_type": "stream",
          "text": [
            "\r 45%|████▌     | 9/20 [00:09<00:05,  2.00it/s]"
          ]
        },
        {
          "name": "stdout",
          "output_type": "stream",
          "text": [
            "[[0 0 0 ... 1 1 1]\n",
            " [0 0 0 ... 1 1 1]\n",
            " [0 0 0 ... 1 1 1]\n",
            " ...\n",
            " [1 1 1 ... 1 1 1]\n",
            " [1 1 1 ... 1 1 1]\n",
            " [1 1 1 ... 1 1 1]]\n"
          ]
        },
        {
          "name": "stderr",
          "output_type": "stream",
          "text": [
            "\r 50%|█████     | 10/20 [00:09<00:04,  2.13it/s]"
          ]
        },
        {
          "name": "stdout",
          "output_type": "stream",
          "text": [
            "[[1 1 1 ... 0 0 0]\n",
            " [1 1 1 ... 0 0 0]\n",
            " [1 1 1 ... 0 0 0]\n",
            " ...\n",
            " [0 0 0 ... 0 0 0]\n",
            " [0 0 0 ... 0 0 0]\n",
            " [0 0 0 ... 0 0 0]]\n"
          ]
        },
        {
          "name": "stderr",
          "output_type": "stream",
          "text": [
            "\r 55%|█████▌    | 11/20 [00:10<00:03,  2.28it/s]"
          ]
        },
        {
          "name": "stdout",
          "output_type": "stream",
          "text": [
            "[[0 0 0 ... 0 0 1]\n",
            " [0 0 0 ... 0 0 0]\n",
            " [0 0 0 ... 0 0 0]\n",
            " ...\n",
            " [0 0 0 ... 0 0 0]\n",
            " [0 0 0 ... 0 0 0]\n",
            " [1 0 0 ... 0 0 0]]\n"
          ]
        },
        {
          "name": "stderr",
          "output_type": "stream",
          "text": [
            "\r 60%|██████    | 12/20 [00:10<00:03,  2.34it/s]"
          ]
        },
        {
          "name": "stdout",
          "output_type": "stream",
          "text": [
            "[[1 1 1 ... 1 1 1]\n",
            " [1 1 1 ... 1 1 1]\n",
            " [1 1 1 ... 1 1 1]\n",
            " ...\n",
            " [1 1 1 ... 0 0 0]\n",
            " [1 1 1 ... 0 0 0]\n",
            " [1 1 1 ... 0 0 0]]\n"
          ]
        },
        {
          "name": "stderr",
          "output_type": "stream",
          "text": [
            "\r 65%|██████▌   | 13/20 [00:11<00:02,  2.35it/s]"
          ]
        },
        {
          "name": "stdout",
          "output_type": "stream",
          "text": [
            "[[1 1 1 ... 1 1 1]\n",
            " [1 1 1 ... 1 1 1]\n",
            " [1 1 1 ... 1 1 1]\n",
            " ...\n",
            " [0 0 0 ... 1 1 1]\n",
            " [0 0 0 ... 1 1 1]\n",
            " [0 0 0 ... 1 1 1]]\n"
          ]
        },
        {
          "name": "stderr",
          "output_type": "stream",
          "text": [
            "\r 70%|███████   | 14/20 [00:11<00:02,  2.19it/s]"
          ]
        },
        {
          "name": "stdout",
          "output_type": "stream",
          "text": [
            "[[1 1 1 ... 1 1 1]\n",
            " [1 1 1 ... 1 1 1]\n",
            " [1 1 1 ... 1 1 1]\n",
            " ...\n",
            " [0 0 0 ... 1 1 1]\n",
            " [0 0 0 ... 1 1 1]\n",
            " [0 0 0 ... 1 1 1]]\n"
          ]
        },
        {
          "name": "stderr",
          "output_type": "stream",
          "text": [
            "\r 75%|███████▌  | 15/20 [00:12<00:02,  2.04it/s]"
          ]
        },
        {
          "name": "stdout",
          "output_type": "stream",
          "text": [
            "[[1 1 1 ... 0 0 0]\n",
            " [1 1 1 ... 0 0 0]\n",
            " [1 1 1 ... 0 0 0]\n",
            " ...\n",
            " [0 0 0 ... 0 0 0]\n",
            " [0 0 0 ... 0 0 0]\n",
            " [0 0 0 ... 0 0 0]]\n"
          ]
        },
        {
          "name": "stderr",
          "output_type": "stream",
          "text": [
            "\r 80%|████████  | 16/20 [00:12<00:02,  1.91it/s]"
          ]
        },
        {
          "name": "stdout",
          "output_type": "stream",
          "text": [
            "[[1 1 1 ... 1 1 1]\n",
            " [1 1 1 ... 1 1 1]\n",
            " [1 1 1 ... 1 1 1]\n",
            " ...\n",
            " [1 1 1 ... 1 1 1]\n",
            " [1 1 1 ... 1 1 1]\n",
            " [1 1 1 ... 1 1 1]]\n"
          ]
        },
        {
          "name": "stderr",
          "output_type": "stream",
          "text": [
            "\r 85%|████████▌ | 17/20 [00:13<00:01,  1.86it/s]"
          ]
        },
        {
          "name": "stdout",
          "output_type": "stream",
          "text": [
            "[[1 1 1 ... 1 1 1]\n",
            " [1 1 1 ... 1 1 1]\n",
            " [1 1 1 ... 1 1 1]\n",
            " ...\n",
            " [0 0 0 ... 0 0 0]\n",
            " [0 0 0 ... 0 0 0]\n",
            " [0 0 0 ... 0 0 0]]\n"
          ]
        },
        {
          "name": "stderr",
          "output_type": "stream",
          "text": [
            "\r 90%|█████████ | 18/20 [00:13<00:01,  1.82it/s]"
          ]
        },
        {
          "name": "stdout",
          "output_type": "stream",
          "text": [
            "[[1 1 1 ... 1 1 1]\n",
            " [1 1 1 ... 1 1 1]\n",
            " [1 1 1 ... 1 1 1]\n",
            " ...\n",
            " [1 1 1 ... 1 1 1]\n",
            " [1 1 1 ... 1 1 1]\n",
            " [1 1 1 ... 1 1 1]]\n"
          ]
        },
        {
          "name": "stderr",
          "output_type": "stream",
          "text": [
            "\r 95%|█████████▌| 19/20 [00:14<00:00,  1.81it/s]"
          ]
        },
        {
          "name": "stdout",
          "output_type": "stream",
          "text": [
            "[[0 0 0 ... 0 0 0]\n",
            " [0 0 0 ... 0 0 0]\n",
            " [0 0 0 ... 0 0 0]\n",
            " ...\n",
            " [0 0 0 ... 0 0 0]\n",
            " [0 0 0 ... 0 0 0]\n",
            " [0 0 0 ... 0 0 0]]\n"
          ]
        },
        {
          "name": "stderr",
          "output_type": "stream",
          "text": [
            "100%|██████████| 20/20 [00:14<00:00,  1.35it/s]"
          ]
        },
        {
          "name": "stdout",
          "output_type": "stream",
          "text": [
            "[[1 1 1 ... 1 1 1]\n",
            " [1 1 1 ... 1 1 1]\n",
            " [1 1 1 ... 1 1 1]\n",
            " ...\n",
            " [1 1 1 ... 0 0 0]\n",
            " [1 1 1 ... 0 0 0]\n",
            " [1 1 1 ... 0 0 0]]\n",
            "F1: 0.76726\n",
            "Jaccard: 0.68615\n",
            "Recall: 0.78720\n",
            "Precision: 0.84260\n"
          ]
        },
        {
          "name": "stderr",
          "output_type": "stream",
          "text": [
            "\n"
          ]
        }
      ],
      "source": [
        "create_dir(\"/content/drive/MyDrive/dataset/ens\")\n",
        "result=\"/content/drive/MyDrive/dataset/ens\"\n",
        "\n",
        "ensemble_model(result)"
      ]
    }
  ],
  "metadata": {
    "accelerator": "GPU",
    "colab": {
      "provenance": [],
      "include_colab_link": true
    },
    "gpuClass": "standard",
    "kernelspec": {
      "display_name": "Python 3",
      "name": "python3"
    },
    "language_info": {
      "name": "python"
    }
  },
  "nbformat": 4,
  "nbformat_minor": 0
}